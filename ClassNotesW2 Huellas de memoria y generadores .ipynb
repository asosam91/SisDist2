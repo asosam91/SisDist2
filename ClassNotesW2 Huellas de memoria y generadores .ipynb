{
  "nbformat": 4,
  "nbformat_minor": 0,
  "metadata": {
    "colab": {
      "name": "Untitled23.ipynb",
      "version": "0.3.2",
      "provenance": [],
      "include_colab_link": true
    },
    "kernelspec": {
      "name": "python3",
      "display_name": "Python 3"
    }
  },
  "cells": [
    {
      "cell_type": "markdown",
      "metadata": {
        "id": "view-in-github",
        "colab_type": "text"
      },
      "source": [
        "<a href=\"https://colab.research.google.com/github/asosam91/SisDist2/blob/master/ClassNotesW2%20Huellas%20de%20memoria%20y%20generadores%20.ipynb\" target=\"_parent\"><img src=\"https://colab.research.google.com/assets/colab-badge.svg\" alt=\"Open In Colab\"/></a>"
      ]
    },
    {
      "cell_type": "markdown",
      "metadata": {
        "id": "_KTlIV_H7CIb",
        "colab_type": "text"
      },
      "source": [
        ">>> # Resumen Semana 1\n",
        "\n"
      ]
    },
    {
      "cell_type": "code",
      "metadata": {
        "id": "BCd6PpXy6rf2",
        "colab_type": "code",
        "colab": {}
      },
      "source": [
        "import psutil, os \n",
        "import numpy as np\n",
        "import pandas as pd"
      ],
      "execution_count": 0,
      "outputs": []
    },
    {
      "cell_type": "code",
      "metadata": {
        "id": "he0lFBFU9Up5",
        "colab_type": "code",
        "colab": {}
      },
      "source": [
        "def huella_de_memoria():\n",
        "  '''Regresa al memoria usada por un proceso en python'''\n",
        "  mem = psutil.Process(os.getpid()).memory_info().rss\n",
        "  return (mem/1024**2)"
      ],
      "execution_count": 0,
      "outputs": []
    },
    {
      "cell_type": "markdown",
      "metadata": {
        "id": "O920EA8G_T1w",
        "colab_type": "text"
      },
      "source": [
        ">>> # Semana 2\n",
        "- descarga de datos \n"
      ]
    },
    {
      "cell_type": "code",
      "metadata": {
        "id": "YK8d-tRODD2J",
        "colab_type": "code",
        "colab": {}
      },
      "source": [
        "plantilla = 'yellow_tripdata_2018-{:02d}.csv'\n",
        "plantillaURL = 'wget https://s3.amazonaws.com/nyc-tlc/trip+data/' + plantilla"
      ],
      "execution_count": 0,
      "outputs": []
    },
    {
      "cell_type": "code",
      "metadata": {
        "id": "3INsxeAyFPaF",
        "colab_type": "code",
        "colab": {}
      },
      "source": [
        "comandos = [plantillaURL.format(y) for y in range(1,4)] # for corto"
      ],
      "execution_count": 0,
      "outputs": []
    },
    {
      "cell_type": "code",
      "metadata": {
        "id": "XdMfFuAQGFcQ",
        "colab_type": "code",
        "colab": {}
      },
      "source": [
        "# (plantillaURL.format(y) for y in range(1,13)) # hasta que se usa se ejecuta la funcion y esta mas vergas xD ahorra memoria"
      ],
      "execution_count": 0,
      "outputs": []
    },
    {
      "cell_type": "code",
      "metadata": {
        "id": "JHY1Jid9GL4S",
        "colab_type": "code",
        "colab": {}
      },
      "source": [
        "# descarga de datos \n",
        "for cmd in comandos:\n",
        "  os.system(cmd)\n",
        "  "
      ],
      "execution_count": 0,
      "outputs": []
    },
    {
      "cell_type": "code",
      "metadata": {
        "id": "FFhpvr_TH2Hq",
        "colab_type": "code",
        "colab": {}
      },
      "source": [
        "archivo = 'yellow_tripdata_2018-01.csv'"
      ],
      "execution_count": 0,
      "outputs": []
    },
    {
      "cell_type": "code",
      "metadata": {
        "id": "Xzf7Fhr6IwR4",
        "colab_type": "code",
        "colab": {}
      },
      "source": [
        "data = pd.read_csv(archivo)"
      ],
      "execution_count": 0,
      "outputs": []
    },
    {
      "cell_type": "code",
      "metadata": {
        "id": "D94a5YxgJASC",
        "colab_type": "code",
        "colab": {
          "base_uri": "https://localhost:8080/",
          "height": 34
        },
        "outputId": "3c660980-0ac1-4ace-e01d-9ec8981341da"
      },
      "source": [
        "sum(data.memory_usage(index=False)/(1024**2))"
      ],
      "execution_count": 9,
      "outputs": [
        {
          "output_type": "execute_result",
          "data": {
            "text/plain": [
              "1122"
            ]
          },
          "metadata": {
            "tags": []
          },
          "execution_count": 9
        }
      ]
    },
    {
      "cell_type": "code",
      "metadata": {
        "id": "YsNwW7X_J14R",
        "colab_type": "code",
        "colab": {
          "base_uri": "https://localhost:8080/",
          "height": 3009
        },
        "outputId": "01acb74a-c8d3-448a-932e-a91fc79db8ac"
      },
      "source": [
        "for part in pd.read_csv(archivo, chunksize=50000):\n",
        "  print('type: %s shape %s'%(type(part), part.shape))"
      ],
      "execution_count": 25,
      "outputs": [
        {
          "output_type": "stream",
          "text": [
            "typ3: <class 'pandas.core.frame.DataFrame'> shape (50000, 17)\n",
            "typ3: <class 'pandas.core.frame.DataFrame'> shape (50000, 17)\n",
            "typ3: <class 'pandas.core.frame.DataFrame'> shape (50000, 17)\n",
            "typ3: <class 'pandas.core.frame.DataFrame'> shape (50000, 17)\n",
            "typ3: <class 'pandas.core.frame.DataFrame'> shape (50000, 17)\n",
            "typ3: <class 'pandas.core.frame.DataFrame'> shape (50000, 17)\n",
            "typ3: <class 'pandas.core.frame.DataFrame'> shape (50000, 17)\n",
            "typ3: <class 'pandas.core.frame.DataFrame'> shape (50000, 17)\n",
            "typ3: <class 'pandas.core.frame.DataFrame'> shape (50000, 17)\n",
            "typ3: <class 'pandas.core.frame.DataFrame'> shape (50000, 17)\n",
            "typ3: <class 'pandas.core.frame.DataFrame'> shape (50000, 17)\n",
            "typ3: <class 'pandas.core.frame.DataFrame'> shape (50000, 17)\n",
            "typ3: <class 'pandas.core.frame.DataFrame'> shape (50000, 17)\n",
            "typ3: <class 'pandas.core.frame.DataFrame'> shape (50000, 17)\n",
            "typ3: <class 'pandas.core.frame.DataFrame'> shape (50000, 17)\n",
            "typ3: <class 'pandas.core.frame.DataFrame'> shape (50000, 17)\n",
            "typ3: <class 'pandas.core.frame.DataFrame'> shape (50000, 17)\n",
            "typ3: <class 'pandas.core.frame.DataFrame'> shape (50000, 17)\n",
            "typ3: <class 'pandas.core.frame.DataFrame'> shape (50000, 17)\n",
            "typ3: <class 'pandas.core.frame.DataFrame'> shape (50000, 17)\n",
            "typ3: <class 'pandas.core.frame.DataFrame'> shape (50000, 17)\n",
            "typ3: <class 'pandas.core.frame.DataFrame'> shape (50000, 17)\n",
            "typ3: <class 'pandas.core.frame.DataFrame'> shape (50000, 17)\n",
            "typ3: <class 'pandas.core.frame.DataFrame'> shape (50000, 17)\n",
            "typ3: <class 'pandas.core.frame.DataFrame'> shape (50000, 17)\n",
            "typ3: <class 'pandas.core.frame.DataFrame'> shape (50000, 17)\n",
            "typ3: <class 'pandas.core.frame.DataFrame'> shape (50000, 17)\n",
            "typ3: <class 'pandas.core.frame.DataFrame'> shape (50000, 17)\n",
            "typ3: <class 'pandas.core.frame.DataFrame'> shape (50000, 17)\n",
            "typ3: <class 'pandas.core.frame.DataFrame'> shape (50000, 17)\n",
            "typ3: <class 'pandas.core.frame.DataFrame'> shape (50000, 17)\n",
            "typ3: <class 'pandas.core.frame.DataFrame'> shape (50000, 17)\n",
            "typ3: <class 'pandas.core.frame.DataFrame'> shape (50000, 17)\n",
            "typ3: <class 'pandas.core.frame.DataFrame'> shape (50000, 17)\n",
            "typ3: <class 'pandas.core.frame.DataFrame'> shape (50000, 17)\n",
            "typ3: <class 'pandas.core.frame.DataFrame'> shape (50000, 17)\n",
            "typ3: <class 'pandas.core.frame.DataFrame'> shape (50000, 17)\n",
            "typ3: <class 'pandas.core.frame.DataFrame'> shape (50000, 17)\n",
            "typ3: <class 'pandas.core.frame.DataFrame'> shape (50000, 17)\n",
            "typ3: <class 'pandas.core.frame.DataFrame'> shape (50000, 17)\n",
            "typ3: <class 'pandas.core.frame.DataFrame'> shape (50000, 17)\n",
            "typ3: <class 'pandas.core.frame.DataFrame'> shape (50000, 17)\n",
            "typ3: <class 'pandas.core.frame.DataFrame'> shape (50000, 17)\n",
            "typ3: <class 'pandas.core.frame.DataFrame'> shape (50000, 17)\n",
            "typ3: <class 'pandas.core.frame.DataFrame'> shape (50000, 17)\n",
            "typ3: <class 'pandas.core.frame.DataFrame'> shape (50000, 17)\n",
            "typ3: <class 'pandas.core.frame.DataFrame'> shape (50000, 17)\n",
            "typ3: <class 'pandas.core.frame.DataFrame'> shape (50000, 17)\n",
            "typ3: <class 'pandas.core.frame.DataFrame'> shape (50000, 17)\n",
            "typ3: <class 'pandas.core.frame.DataFrame'> shape (50000, 17)\n",
            "typ3: <class 'pandas.core.frame.DataFrame'> shape (50000, 17)\n",
            "typ3: <class 'pandas.core.frame.DataFrame'> shape (50000, 17)\n",
            "typ3: <class 'pandas.core.frame.DataFrame'> shape (50000, 17)\n",
            "typ3: <class 'pandas.core.frame.DataFrame'> shape (50000, 17)\n",
            "typ3: <class 'pandas.core.frame.DataFrame'> shape (50000, 17)\n",
            "typ3: <class 'pandas.core.frame.DataFrame'> shape (50000, 17)\n",
            "typ3: <class 'pandas.core.frame.DataFrame'> shape (50000, 17)\n",
            "typ3: <class 'pandas.core.frame.DataFrame'> shape (50000, 17)\n",
            "typ3: <class 'pandas.core.frame.DataFrame'> shape (50000, 17)\n",
            "typ3: <class 'pandas.core.frame.DataFrame'> shape (50000, 17)\n",
            "typ3: <class 'pandas.core.frame.DataFrame'> shape (50000, 17)\n",
            "typ3: <class 'pandas.core.frame.DataFrame'> shape (50000, 17)\n",
            "typ3: <class 'pandas.core.frame.DataFrame'> shape (50000, 17)\n",
            "typ3: <class 'pandas.core.frame.DataFrame'> shape (50000, 17)\n",
            "typ3: <class 'pandas.core.frame.DataFrame'> shape (50000, 17)\n",
            "typ3: <class 'pandas.core.frame.DataFrame'> shape (50000, 17)\n",
            "typ3: <class 'pandas.core.frame.DataFrame'> shape (50000, 17)\n",
            "typ3: <class 'pandas.core.frame.DataFrame'> shape (50000, 17)\n",
            "typ3: <class 'pandas.core.frame.DataFrame'> shape (50000, 17)\n",
            "typ3: <class 'pandas.core.frame.DataFrame'> shape (50000, 17)\n",
            "typ3: <class 'pandas.core.frame.DataFrame'> shape (50000, 17)\n",
            "typ3: <class 'pandas.core.frame.DataFrame'> shape (50000, 17)\n",
            "typ3: <class 'pandas.core.frame.DataFrame'> shape (50000, 17)\n",
            "typ3: <class 'pandas.core.frame.DataFrame'> shape (50000, 17)\n",
            "typ3: <class 'pandas.core.frame.DataFrame'> shape (50000, 17)\n",
            "typ3: <class 'pandas.core.frame.DataFrame'> shape (50000, 17)\n",
            "typ3: <class 'pandas.core.frame.DataFrame'> shape (50000, 17)\n",
            "typ3: <class 'pandas.core.frame.DataFrame'> shape (50000, 17)\n",
            "typ3: <class 'pandas.core.frame.DataFrame'> shape (50000, 17)\n",
            "typ3: <class 'pandas.core.frame.DataFrame'> shape (50000, 17)\n",
            "typ3: <class 'pandas.core.frame.DataFrame'> shape (50000, 17)\n",
            "typ3: <class 'pandas.core.frame.DataFrame'> shape (50000, 17)\n",
            "typ3: <class 'pandas.core.frame.DataFrame'> shape (50000, 17)\n",
            "typ3: <class 'pandas.core.frame.DataFrame'> shape (50000, 17)\n",
            "typ3: <class 'pandas.core.frame.DataFrame'> shape (50000, 17)\n",
            "typ3: <class 'pandas.core.frame.DataFrame'> shape (50000, 17)\n",
            "typ3: <class 'pandas.core.frame.DataFrame'> shape (50000, 17)\n",
            "typ3: <class 'pandas.core.frame.DataFrame'> shape (50000, 17)\n",
            "typ3: <class 'pandas.core.frame.DataFrame'> shape (50000, 17)\n",
            "typ3: <class 'pandas.core.frame.DataFrame'> shape (50000, 17)\n",
            "typ3: <class 'pandas.core.frame.DataFrame'> shape (50000, 17)\n",
            "typ3: <class 'pandas.core.frame.DataFrame'> shape (50000, 17)\n",
            "typ3: <class 'pandas.core.frame.DataFrame'> shape (50000, 17)\n",
            "typ3: <class 'pandas.core.frame.DataFrame'> shape (50000, 17)\n",
            "typ3: <class 'pandas.core.frame.DataFrame'> shape (50000, 17)\n",
            "typ3: <class 'pandas.core.frame.DataFrame'> shape (50000, 17)\n",
            "typ3: <class 'pandas.core.frame.DataFrame'> shape (50000, 17)\n",
            "typ3: <class 'pandas.core.frame.DataFrame'> shape (50000, 17)\n",
            "typ3: <class 'pandas.core.frame.DataFrame'> shape (50000, 17)\n",
            "typ3: <class 'pandas.core.frame.DataFrame'> shape (50000, 17)\n",
            "typ3: <class 'pandas.core.frame.DataFrame'> shape (50000, 17)\n",
            "typ3: <class 'pandas.core.frame.DataFrame'> shape (50000, 17)\n",
            "typ3: <class 'pandas.core.frame.DataFrame'> shape (50000, 17)\n",
            "typ3: <class 'pandas.core.frame.DataFrame'> shape (50000, 17)\n",
            "typ3: <class 'pandas.core.frame.DataFrame'> shape (50000, 17)\n",
            "typ3: <class 'pandas.core.frame.DataFrame'> shape (50000, 17)\n",
            "typ3: <class 'pandas.core.frame.DataFrame'> shape (50000, 17)\n",
            "typ3: <class 'pandas.core.frame.DataFrame'> shape (50000, 17)\n",
            "typ3: <class 'pandas.core.frame.DataFrame'> shape (50000, 17)\n",
            "typ3: <class 'pandas.core.frame.DataFrame'> shape (50000, 17)\n",
            "typ3: <class 'pandas.core.frame.DataFrame'> shape (50000, 17)\n",
            "typ3: <class 'pandas.core.frame.DataFrame'> shape (50000, 17)\n",
            "typ3: <class 'pandas.core.frame.DataFrame'> shape (50000, 17)\n",
            "typ3: <class 'pandas.core.frame.DataFrame'> shape (50000, 17)\n",
            "typ3: <class 'pandas.core.frame.DataFrame'> shape (50000, 17)\n",
            "typ3: <class 'pandas.core.frame.DataFrame'> shape (50000, 17)\n",
            "typ3: <class 'pandas.core.frame.DataFrame'> shape (50000, 17)\n",
            "typ3: <class 'pandas.core.frame.DataFrame'> shape (50000, 17)\n",
            "typ3: <class 'pandas.core.frame.DataFrame'> shape (50000, 17)\n",
            "typ3: <class 'pandas.core.frame.DataFrame'> shape (50000, 17)\n",
            "typ3: <class 'pandas.core.frame.DataFrame'> shape (50000, 17)\n",
            "typ3: <class 'pandas.core.frame.DataFrame'> shape (50000, 17)\n",
            "typ3: <class 'pandas.core.frame.DataFrame'> shape (50000, 17)\n",
            "typ3: <class 'pandas.core.frame.DataFrame'> shape (50000, 17)\n",
            "typ3: <class 'pandas.core.frame.DataFrame'> shape (50000, 17)\n",
            "typ3: <class 'pandas.core.frame.DataFrame'> shape (50000, 17)\n",
            "typ3: <class 'pandas.core.frame.DataFrame'> shape (50000, 17)\n",
            "typ3: <class 'pandas.core.frame.DataFrame'> shape (50000, 17)\n",
            "typ3: <class 'pandas.core.frame.DataFrame'> shape (50000, 17)\n",
            "typ3: <class 'pandas.core.frame.DataFrame'> shape (50000, 17)\n",
            "typ3: <class 'pandas.core.frame.DataFrame'> shape (50000, 17)\n",
            "typ3: <class 'pandas.core.frame.DataFrame'> shape (50000, 17)\n",
            "typ3: <class 'pandas.core.frame.DataFrame'> shape (50000, 17)\n",
            "typ3: <class 'pandas.core.frame.DataFrame'> shape (50000, 17)\n",
            "typ3: <class 'pandas.core.frame.DataFrame'> shape (50000, 17)\n",
            "typ3: <class 'pandas.core.frame.DataFrame'> shape (50000, 17)\n",
            "typ3: <class 'pandas.core.frame.DataFrame'> shape (50000, 17)\n",
            "typ3: <class 'pandas.core.frame.DataFrame'> shape (50000, 17)\n",
            "typ3: <class 'pandas.core.frame.DataFrame'> shape (50000, 17)\n",
            "typ3: <class 'pandas.core.frame.DataFrame'> shape (50000, 17)\n",
            "typ3: <class 'pandas.core.frame.DataFrame'> shape (50000, 17)\n",
            "typ3: <class 'pandas.core.frame.DataFrame'> shape (50000, 17)\n",
            "typ3: <class 'pandas.core.frame.DataFrame'> shape (50000, 17)\n",
            "typ3: <class 'pandas.core.frame.DataFrame'> shape (50000, 17)\n",
            "typ3: <class 'pandas.core.frame.DataFrame'> shape (50000, 17)\n",
            "typ3: <class 'pandas.core.frame.DataFrame'> shape (50000, 17)\n",
            "typ3: <class 'pandas.core.frame.DataFrame'> shape (50000, 17)\n",
            "typ3: <class 'pandas.core.frame.DataFrame'> shape (50000, 17)\n",
            "typ3: <class 'pandas.core.frame.DataFrame'> shape (50000, 17)\n",
            "typ3: <class 'pandas.core.frame.DataFrame'> shape (50000, 17)\n",
            "typ3: <class 'pandas.core.frame.DataFrame'> shape (50000, 17)\n",
            "typ3: <class 'pandas.core.frame.DataFrame'> shape (50000, 17)\n",
            "typ3: <class 'pandas.core.frame.DataFrame'> shape (50000, 17)\n",
            "typ3: <class 'pandas.core.frame.DataFrame'> shape (50000, 17)\n",
            "typ3: <class 'pandas.core.frame.DataFrame'> shape (50000, 17)\n",
            "typ3: <class 'pandas.core.frame.DataFrame'> shape (50000, 17)\n",
            "typ3: <class 'pandas.core.frame.DataFrame'> shape (50000, 17)\n",
            "typ3: <class 'pandas.core.frame.DataFrame'> shape (50000, 17)\n",
            "typ3: <class 'pandas.core.frame.DataFrame'> shape (50000, 17)\n",
            "typ3: <class 'pandas.core.frame.DataFrame'> shape (50000, 17)\n",
            "typ3: <class 'pandas.core.frame.DataFrame'> shape (50000, 17)\n",
            "typ3: <class 'pandas.core.frame.DataFrame'> shape (50000, 17)\n",
            "typ3: <class 'pandas.core.frame.DataFrame'> shape (50000, 17)\n",
            "typ3: <class 'pandas.core.frame.DataFrame'> shape (50000, 17)\n",
            "typ3: <class 'pandas.core.frame.DataFrame'> shape (50000, 17)\n",
            "typ3: <class 'pandas.core.frame.DataFrame'> shape (50000, 17)\n",
            "typ3: <class 'pandas.core.frame.DataFrame'> shape (50000, 17)\n",
            "typ3: <class 'pandas.core.frame.DataFrame'> shape (50000, 17)\n",
            "typ3: <class 'pandas.core.frame.DataFrame'> shape (50000, 17)\n",
            "typ3: <class 'pandas.core.frame.DataFrame'> shape (50000, 17)\n",
            "typ3: <class 'pandas.core.frame.DataFrame'> shape (50000, 17)\n",
            "typ3: <class 'pandas.core.frame.DataFrame'> shape (50000, 17)\n",
            "typ3: <class 'pandas.core.frame.DataFrame'> shape (50000, 17)\n",
            "typ3: <class 'pandas.core.frame.DataFrame'> shape (50000, 17)\n",
            "typ3: <class 'pandas.core.frame.DataFrame'> shape (50000, 17)\n",
            "typ3: <class 'pandas.core.frame.DataFrame'> shape (9874, 17)\n"
          ],
          "name": "stdout"
        }
      ]
    },
    {
      "cell_type": "code",
      "metadata": {
        "id": "YF28lCM5KEMN",
        "colab_type": "code",
        "colab": {
          "base_uri": "https://localhost:8080/",
          "height": 391
        },
        "outputId": "11ea56bd-8c4b-45ef-d64e-104f7977380e"
      },
      "source": [
        "part.info()"
      ],
      "execution_count": 29,
      "outputs": [
        {
          "output_type": "stream",
          "text": [
            "<class 'pandas.core.frame.DataFrame'>\n",
            "RangeIndex: 9874 entries, 8750000 to 8759873\n",
            "Data columns (total 17 columns):\n",
            "VendorID                 9874 non-null int64\n",
            "tpep_pickup_datetime     9874 non-null object\n",
            "tpep_dropoff_datetime    9874 non-null object\n",
            "passenger_count          9874 non-null int64\n",
            "trip_distance            9874 non-null float64\n",
            "RatecodeID               9874 non-null int64\n",
            "store_and_fwd_flag       9874 non-null object\n",
            "PULocationID             9874 non-null int64\n",
            "DOLocationID             9874 non-null int64\n",
            "payment_type             9874 non-null int64\n",
            "fare_amount              9874 non-null float64\n",
            "extra                    9874 non-null float64\n",
            "mta_tax                  9874 non-null float64\n",
            "tip_amount               9874 non-null float64\n",
            "tolls_amount             9874 non-null float64\n",
            "improvement_surcharge    9874 non-null float64\n",
            "total_amount             9874 non-null float64\n",
            "dtypes: float64(8), int64(6), object(3)\n",
            "memory usage: 1.3+ MB\n"
          ],
          "name": "stdout"
        }
      ]
    },
    {
      "cell_type": "code",
      "metadata": {
        "id": "oPWuU8DyKpya",
        "colab_type": "code",
        "colab": {
          "base_uri": "https://localhost:8080/",
          "height": 224
        },
        "outputId": "268bcb8a-e081-4190-d68b-e54973cd42b7"
      },
      "source": [
        "part.head()"
      ],
      "execution_count": 30,
      "outputs": [
        {
          "output_type": "execute_result",
          "data": {
            "text/html": [
              "<div>\n",
              "<style scoped>\n",
              "    .dataframe tbody tr th:only-of-type {\n",
              "        vertical-align: middle;\n",
              "    }\n",
              "\n",
              "    .dataframe tbody tr th {\n",
              "        vertical-align: top;\n",
              "    }\n",
              "\n",
              "    .dataframe thead th {\n",
              "        text-align: right;\n",
              "    }\n",
              "</style>\n",
              "<table border=\"1\" class=\"dataframe\">\n",
              "  <thead>\n",
              "    <tr style=\"text-align: right;\">\n",
              "      <th></th>\n",
              "      <th>VendorID</th>\n",
              "      <th>tpep_pickup_datetime</th>\n",
              "      <th>tpep_dropoff_datetime</th>\n",
              "      <th>passenger_count</th>\n",
              "      <th>trip_distance</th>\n",
              "      <th>RatecodeID</th>\n",
              "      <th>store_and_fwd_flag</th>\n",
              "      <th>PULocationID</th>\n",
              "      <th>DOLocationID</th>\n",
              "      <th>payment_type</th>\n",
              "      <th>fare_amount</th>\n",
              "      <th>extra</th>\n",
              "      <th>mta_tax</th>\n",
              "      <th>tip_amount</th>\n",
              "      <th>tolls_amount</th>\n",
              "      <th>improvement_surcharge</th>\n",
              "      <th>total_amount</th>\n",
              "    </tr>\n",
              "  </thead>\n",
              "  <tbody>\n",
              "    <tr>\n",
              "      <th>8750000</th>\n",
              "      <td>2</td>\n",
              "      <td>2018-01-31 23:36:22</td>\n",
              "      <td>2018-01-31 23:46:11</td>\n",
              "      <td>1</td>\n",
              "      <td>1.8</td>\n",
              "      <td>1</td>\n",
              "      <td>N</td>\n",
              "      <td>162</td>\n",
              "      <td>186</td>\n",
              "      <td>1</td>\n",
              "      <td>8.5</td>\n",
              "      <td>0.5</td>\n",
              "      <td>0.5</td>\n",
              "      <td>1.96</td>\n",
              "      <td>0.0</td>\n",
              "      <td>0.3</td>\n",
              "      <td>11.76</td>\n",
              "    </tr>\n",
              "    <tr>\n",
              "      <th>8750001</th>\n",
              "      <td>1</td>\n",
              "      <td>2018-01-31 23:41:34</td>\n",
              "      <td>2018-01-31 23:45:40</td>\n",
              "      <td>2</td>\n",
              "      <td>1.0</td>\n",
              "      <td>1</td>\n",
              "      <td>N</td>\n",
              "      <td>234</td>\n",
              "      <td>79</td>\n",
              "      <td>1</td>\n",
              "      <td>5.5</td>\n",
              "      <td>0.5</td>\n",
              "      <td>0.5</td>\n",
              "      <td>2.00</td>\n",
              "      <td>0.0</td>\n",
              "      <td>0.3</td>\n",
              "      <td>8.80</td>\n",
              "    </tr>\n",
              "    <tr>\n",
              "      <th>8750002</th>\n",
              "      <td>1</td>\n",
              "      <td>2018-01-31 23:26:35</td>\n",
              "      <td>2018-01-31 23:29:48</td>\n",
              "      <td>2</td>\n",
              "      <td>0.6</td>\n",
              "      <td>1</td>\n",
              "      <td>N</td>\n",
              "      <td>234</td>\n",
              "      <td>170</td>\n",
              "      <td>1</td>\n",
              "      <td>4.5</td>\n",
              "      <td>0.5</td>\n",
              "      <td>0.5</td>\n",
              "      <td>1.15</td>\n",
              "      <td>0.0</td>\n",
              "      <td>0.3</td>\n",
              "      <td>6.95</td>\n",
              "    </tr>\n",
              "    <tr>\n",
              "      <th>8750003</th>\n",
              "      <td>1</td>\n",
              "      <td>2018-01-31 23:15:56</td>\n",
              "      <td>2018-01-31 23:16:09</td>\n",
              "      <td>1</td>\n",
              "      <td>9.6</td>\n",
              "      <td>1</td>\n",
              "      <td>N</td>\n",
              "      <td>77</td>\n",
              "      <td>77</td>\n",
              "      <td>3</td>\n",
              "      <td>2.5</td>\n",
              "      <td>0.5</td>\n",
              "      <td>0.5</td>\n",
              "      <td>0.00</td>\n",
              "      <td>0.0</td>\n",
              "      <td>0.3</td>\n",
              "      <td>3.80</td>\n",
              "    </tr>\n",
              "    <tr>\n",
              "      <th>8750004</th>\n",
              "      <td>1</td>\n",
              "      <td>2018-01-31 23:17:26</td>\n",
              "      <td>2018-01-31 23:17:42</td>\n",
              "      <td>1</td>\n",
              "      <td>9.6</td>\n",
              "      <td>1</td>\n",
              "      <td>N</td>\n",
              "      <td>77</td>\n",
              "      <td>77</td>\n",
              "      <td>3</td>\n",
              "      <td>2.5</td>\n",
              "      <td>0.5</td>\n",
              "      <td>0.5</td>\n",
              "      <td>0.00</td>\n",
              "      <td>0.0</td>\n",
              "      <td>0.3</td>\n",
              "      <td>3.80</td>\n",
              "    </tr>\n",
              "  </tbody>\n",
              "</table>\n",
              "</div>"
            ],
            "text/plain": [
              "         VendorID tpep_pickup_datetime tpep_dropoff_datetime  passenger_count  \\\n",
              "8750000         2  2018-01-31 23:36:22   2018-01-31 23:46:11                1   \n",
              "8750001         1  2018-01-31 23:41:34   2018-01-31 23:45:40                2   \n",
              "8750002         1  2018-01-31 23:26:35   2018-01-31 23:29:48                2   \n",
              "8750003         1  2018-01-31 23:15:56   2018-01-31 23:16:09                1   \n",
              "8750004         1  2018-01-31 23:17:26   2018-01-31 23:17:42                1   \n",
              "\n",
              "         trip_distance  RatecodeID store_and_fwd_flag  PULocationID  \\\n",
              "8750000            1.8           1                  N           162   \n",
              "8750001            1.0           1                  N           234   \n",
              "8750002            0.6           1                  N           234   \n",
              "8750003            9.6           1                  N            77   \n",
              "8750004            9.6           1                  N            77   \n",
              "\n",
              "         DOLocationID  payment_type  fare_amount  extra  mta_tax  tip_amount  \\\n",
              "8750000           186             1          8.5    0.5      0.5        1.96   \n",
              "8750001            79             1          5.5    0.5      0.5        2.00   \n",
              "8750002           170             1          4.5    0.5      0.5        1.15   \n",
              "8750003            77             3          2.5    0.5      0.5        0.00   \n",
              "8750004            77             3          2.5    0.5      0.5        0.00   \n",
              "\n",
              "         tolls_amount  improvement_surcharge  total_amount  \n",
              "8750000           0.0                    0.3         11.76  \n",
              "8750001           0.0                    0.3          8.80  \n",
              "8750002           0.0                    0.3          6.95  \n",
              "8750003           0.0                    0.3          3.80  \n",
              "8750004           0.0                    0.3          3.80  "
            ]
          },
          "metadata": {
            "tags": []
          },
          "execution_count": 30
        }
      ]
    },
    {
      "cell_type": "markdown",
      "metadata": {
        "id": "Xf3qHfgzOYL0",
        "colab_type": "text"
      },
      "source": [
        "definir una condicion de es un viaje largo mayor a 10 mi?\n",
        "' longTRip = trip_distance>10 ' "
      ]
    },
    {
      "cell_type": "code",
      "metadata": {
        "id": "_DnwoV8pMjC7",
        "colab_type": "code",
        "colab": {}
      },
      "source": [
        "LongTrip = (part.trip_distance > 10)"
      ],
      "execution_count": 0,
      "outputs": []
    },
    {
      "cell_type": "code",
      "metadata": {
        "id": "9jwjk2zMO5R6",
        "colab_type": "code",
        "colab": {
          "base_uri": "https://localhost:8080/",
          "height": 119
        },
        "outputId": "3758fbf4-6b66-4e44-ad4e-2ee29a3d155f"
      },
      "source": [
        "LongTrip.head()"
      ],
      "execution_count": 33,
      "outputs": [
        {
          "output_type": "execute_result",
          "data": {
            "text/plain": [
              "8750000    False\n",
              "8750001    False\n",
              "8750002    False\n",
              "8750003    False\n",
              "8750004    False\n",
              "Name: trip_distance, dtype: bool"
            ]
          },
          "metadata": {
            "tags": []
          },
          "execution_count": 33
        }
      ]
    },
    {
      "cell_type": "code",
      "metadata": {
        "id": "2cDqRFabO6vQ",
        "colab_type": "code",
        "colab": {
          "base_uri": "https://localhost:8080/",
          "height": 224
        },
        "outputId": "417e0edf-cb5b-4142-a551-a5b36abfbfae"
      },
      "source": [
        "part.loc[LongTrip].head()"
      ],
      "execution_count": 35,
      "outputs": [
        {
          "output_type": "execute_result",
          "data": {
            "text/html": [
              "<div>\n",
              "<style scoped>\n",
              "    .dataframe tbody tr th:only-of-type {\n",
              "        vertical-align: middle;\n",
              "    }\n",
              "\n",
              "    .dataframe tbody tr th {\n",
              "        vertical-align: top;\n",
              "    }\n",
              "\n",
              "    .dataframe thead th {\n",
              "        text-align: right;\n",
              "    }\n",
              "</style>\n",
              "<table border=\"1\" class=\"dataframe\">\n",
              "  <thead>\n",
              "    <tr style=\"text-align: right;\">\n",
              "      <th></th>\n",
              "      <th>VendorID</th>\n",
              "      <th>tpep_pickup_datetime</th>\n",
              "      <th>tpep_dropoff_datetime</th>\n",
              "      <th>passenger_count</th>\n",
              "      <th>trip_distance</th>\n",
              "      <th>RatecodeID</th>\n",
              "      <th>store_and_fwd_flag</th>\n",
              "      <th>PULocationID</th>\n",
              "      <th>DOLocationID</th>\n",
              "      <th>payment_type</th>\n",
              "      <th>fare_amount</th>\n",
              "      <th>extra</th>\n",
              "      <th>mta_tax</th>\n",
              "      <th>tip_amount</th>\n",
              "      <th>tolls_amount</th>\n",
              "      <th>improvement_surcharge</th>\n",
              "      <th>total_amount</th>\n",
              "    </tr>\n",
              "  </thead>\n",
              "  <tbody>\n",
              "    <tr>\n",
              "      <th>8750014</th>\n",
              "      <td>1</td>\n",
              "      <td>2018-01-31 23:54:31</td>\n",
              "      <td>2018-02-01 00:19:36</td>\n",
              "      <td>1</td>\n",
              "      <td>14.50</td>\n",
              "      <td>5</td>\n",
              "      <td>N</td>\n",
              "      <td>138</td>\n",
              "      <td>265</td>\n",
              "      <td>1</td>\n",
              "      <td>92.0</td>\n",
              "      <td>0.0</td>\n",
              "      <td>0.0</td>\n",
              "      <td>15.00</td>\n",
              "      <td>5.76</td>\n",
              "      <td>0.3</td>\n",
              "      <td>113.06</td>\n",
              "    </tr>\n",
              "    <tr>\n",
              "      <th>8750032</th>\n",
              "      <td>2</td>\n",
              "      <td>2018-01-31 23:12:39</td>\n",
              "      <td>2018-01-31 23:31:49</td>\n",
              "      <td>1</td>\n",
              "      <td>11.44</td>\n",
              "      <td>1</td>\n",
              "      <td>N</td>\n",
              "      <td>138</td>\n",
              "      <td>77</td>\n",
              "      <td>2</td>\n",
              "      <td>31.5</td>\n",
              "      <td>0.5</td>\n",
              "      <td>0.5</td>\n",
              "      <td>0.00</td>\n",
              "      <td>0.00</td>\n",
              "      <td>0.3</td>\n",
              "      <td>32.80</td>\n",
              "    </tr>\n",
              "    <tr>\n",
              "      <th>8750067</th>\n",
              "      <td>2</td>\n",
              "      <td>2018-01-31 23:35:03</td>\n",
              "      <td>2018-01-31 23:56:11</td>\n",
              "      <td>5</td>\n",
              "      <td>10.23</td>\n",
              "      <td>1</td>\n",
              "      <td>N</td>\n",
              "      <td>138</td>\n",
              "      <td>163</td>\n",
              "      <td>1</td>\n",
              "      <td>30.0</td>\n",
              "      <td>0.5</td>\n",
              "      <td>0.5</td>\n",
              "      <td>5.00</td>\n",
              "      <td>5.76</td>\n",
              "      <td>0.3</td>\n",
              "      <td>42.06</td>\n",
              "    </tr>\n",
              "    <tr>\n",
              "      <th>8750088</th>\n",
              "      <td>1</td>\n",
              "      <td>2018-01-31 23:00:12</td>\n",
              "      <td>2018-01-31 23:38:46</td>\n",
              "      <td>1</td>\n",
              "      <td>16.00</td>\n",
              "      <td>1</td>\n",
              "      <td>N</td>\n",
              "      <td>132</td>\n",
              "      <td>256</td>\n",
              "      <td>1</td>\n",
              "      <td>48.5</td>\n",
              "      <td>0.5</td>\n",
              "      <td>0.5</td>\n",
              "      <td>5.00</td>\n",
              "      <td>0.00</td>\n",
              "      <td>0.3</td>\n",
              "      <td>54.80</td>\n",
              "    </tr>\n",
              "    <tr>\n",
              "      <th>8750115</th>\n",
              "      <td>1</td>\n",
              "      <td>2018-01-31 23:32:12</td>\n",
              "      <td>2018-02-01 00:09:26</td>\n",
              "      <td>1</td>\n",
              "      <td>19.00</td>\n",
              "      <td>1</td>\n",
              "      <td>N</td>\n",
              "      <td>234</td>\n",
              "      <td>210</td>\n",
              "      <td>1</td>\n",
              "      <td>53.5</td>\n",
              "      <td>0.5</td>\n",
              "      <td>0.5</td>\n",
              "      <td>10.95</td>\n",
              "      <td>0.00</td>\n",
              "      <td>0.3</td>\n",
              "      <td>65.75</td>\n",
              "    </tr>\n",
              "  </tbody>\n",
              "</table>\n",
              "</div>"
            ],
            "text/plain": [
              "         VendorID tpep_pickup_datetime tpep_dropoff_datetime  passenger_count  \\\n",
              "8750014         1  2018-01-31 23:54:31   2018-02-01 00:19:36                1   \n",
              "8750032         2  2018-01-31 23:12:39   2018-01-31 23:31:49                1   \n",
              "8750067         2  2018-01-31 23:35:03   2018-01-31 23:56:11                5   \n",
              "8750088         1  2018-01-31 23:00:12   2018-01-31 23:38:46                1   \n",
              "8750115         1  2018-01-31 23:32:12   2018-02-01 00:09:26                1   \n",
              "\n",
              "         trip_distance  RatecodeID store_and_fwd_flag  PULocationID  \\\n",
              "8750014          14.50           5                  N           138   \n",
              "8750032          11.44           1                  N           138   \n",
              "8750067          10.23           1                  N           138   \n",
              "8750088          16.00           1                  N           132   \n",
              "8750115          19.00           1                  N           234   \n",
              "\n",
              "         DOLocationID  payment_type  fare_amount  extra  mta_tax  tip_amount  \\\n",
              "8750014           265             1         92.0    0.0      0.0       15.00   \n",
              "8750032            77             2         31.5    0.5      0.5        0.00   \n",
              "8750067           163             1         30.0    0.5      0.5        5.00   \n",
              "8750088           256             1         48.5    0.5      0.5        5.00   \n",
              "8750115           210             1         53.5    0.5      0.5       10.95   \n",
              "\n",
              "         tolls_amount  improvement_surcharge  total_amount  \n",
              "8750014          5.76                    0.3        113.06  \n",
              "8750032          0.00                    0.3         32.80  \n",
              "8750067          5.76                    0.3         42.06  \n",
              "8750088          0.00                    0.3         54.80  \n",
              "8750115          0.00                    0.3         65.75  "
            ]
          },
          "metadata": {
            "tags": []
          },
          "execution_count": 35
        }
      ]
    },
    {
      "cell_type": "markdown",
      "metadata": {
        "id": "yKgA_WM5PtbV",
        "colab_type": "text"
      },
      "source": [
        "encapsular la operacion de filtrado en una funcion\n"
      ]
    },
    {
      "cell_type": "code",
      "metadata": {
        "id": "UnKErSAiPZxV",
        "colab_type": "code",
        "colab": {}
      },
      "source": [
        "def tripFilter(data):\n",
        "  LongTrip = (data.trip_distance > 10)\n",
        "  return data.loc[LongTrip]"
      ],
      "execution_count": 0,
      "outputs": []
    },
    {
      "cell_type": "code",
      "metadata": {
        "id": "Tipc7LZeQF4t",
        "colab_type": "code",
        "colab": {}
      },
      "source": [
        "trozos = []\n",
        "for trozo in pd.read_csv(archivo, chunksize = 500000):\n",
        "  trozos.append(tripFilter(trozo))"
      ],
      "execution_count": 0,
      "outputs": []
    },
    {
      "cell_type": "code",
      "metadata": {
        "id": "w27-RP1IQtyv",
        "colab_type": "code",
        "colab": {
          "base_uri": "https://localhost:8080/",
          "height": 34
        },
        "outputId": "d97d8ceb-e51a-48a9-d0de-cbdd4130c017"
      },
      "source": [
        "len(trozos)"
      ],
      "execution_count": 39,
      "outputs": [
        {
          "output_type": "execute_result",
          "data": {
            "text/plain": [
              "18"
            ]
          },
          "metadata": {
            "tags": []
          },
          "execution_count": 39
        }
      ]
    },
    {
      "cell_type": "markdown",
      "metadata": {
        "id": "ySOXr6MLRctW",
        "colab_type": "text"
      },
      "source": [
        "es conveniente usar una *list comprehencion* para generar la lista anterios"
      ]
    },
    {
      "cell_type": "code",
      "metadata": {
        "id": "Aohw2uk2RqvW",
        "colab_type": "code",
        "colab": {
          "base_uri": "https://localhost:8080/",
          "height": 34
        },
        "outputId": "ae3f86bc-a57f-45bc-d2d9-c8a74e99428c"
      },
      "source": [
        "trozos = [tripFilter(trozo) for trozo in pd.read_csv(archivo, chunksize=500000)]\n",
        "len(trozos)"
      ],
      "execution_count": 41,
      "outputs": [
        {
          "output_type": "execute_result",
          "data": {
            "text/plain": [
              "18"
            ]
          },
          "metadata": {
            "tags": []
          },
          "execution_count": 41
        }
      ]
    },
    {
      "cell_type": "code",
      "metadata": {
        "id": "msY6-DL2RBG6",
        "colab_type": "code",
        "colab": {}
      },
      "source": [
        "tamano = [len(trozo) for trozo in trozos]"
      ],
      "execution_count": 0,
      "outputs": []
    },
    {
      "cell_type": "code",
      "metadata": {
        "id": "lMh8baxJRCTw",
        "colab_type": "code",
        "colab": {
          "base_uri": "https://localhost:8080/",
          "height": 323
        },
        "outputId": "00870e7b-5fa7-4728-a7ef-36ae96af5cc3"
      },
      "source": [
        "tamano"
      ],
      "execution_count": 43,
      "outputs": [
        {
          "output_type": "execute_result",
          "data": {
            "text/plain": [
              "[36840,\n",
              " 24360,\n",
              " 27249,\n",
              " 32064,\n",
              " 26497,\n",
              " 27405,\n",
              " 23502,\n",
              " 30812,\n",
              " 25838,\n",
              " 24353,\n",
              " 22569,\n",
              " 30044,\n",
              " 24992,\n",
              " 24950,\n",
              " 22277,\n",
              " 27423,\n",
              " 23822,\n",
              " 11817]"
            ]
          },
          "metadata": {
            "tags": []
          },
          "execution_count": 43
        }
      ]
    },
    {
      "cell_type": "code",
      "metadata": {
        "id": "7eDqRTnKSJVz",
        "colab_type": "code",
        "colab": {
          "base_uri": "https://localhost:8080/",
          "height": 34
        },
        "outputId": "2ee65da9-208c-47ee-ee7b-1b031d0e854c"
      },
      "source": [
        "sum(tamano)"
      ],
      "execution_count": 47,
      "outputs": [
        {
          "output_type": "execute_result",
          "data": {
            "text/plain": [
              "466814"
            ]
          },
          "metadata": {
            "tags": []
          },
          "execution_count": 47
        }
      ]
    },
    {
      "cell_type": "code",
      "metadata": {
        "id": "FyT7VZo5SPoJ",
        "colab_type": "code",
        "colab": {
          "base_uri": "https://localhost:8080/",
          "height": 34
        },
        "outputId": "34e41925-f3a3-4fdb-bbbf-dfabe3fcb349"
      },
      "source": [
        "LongTripsDF = pd.concat(trozos)\n",
        "LongTripsDF.shape"
      ],
      "execution_count": 48,
      "outputs": [
        {
          "output_type": "execute_result",
          "data": {
            "text/plain": [
              "(466814, 17)"
            ]
          },
          "metadata": {
            "tags": []
          },
          "execution_count": 48
        }
      ]
    },
    {
      "cell_type": "code",
      "metadata": {
        "id": "5T1OPjAzS_mj",
        "colab_type": "code",
        "colab": {}
      },
      "source": [
        "import matplotlib.pyplot as plt"
      ],
      "execution_count": 0,
      "outputs": []
    },
    {
      "cell_type": "code",
      "metadata": {
        "id": "2eLdchh3Tz09",
        "colab_type": "code",
        "colab": {
          "base_uri": "https://localhost:8080/",
          "height": 313
        },
        "outputId": "dc52886f-a38d-4291-de30-c6c6cbc1ad96"
      },
      "source": [
        "LongTripsDF.plot.scatter(x ='trip_distance', y='fare_amount', title='Viajes largos', xlim=(0,150), ylim=(0,600))"
      ],
      "execution_count": 54,
      "outputs": [
        {
          "output_type": "execute_result",
          "data": {
            "text/plain": [
              "<matplotlib.axes._subplots.AxesSubplot at 0x7faec1129e48>"
            ]
          },
          "metadata": {
            "tags": []
          },
          "execution_count": 54
        },
        {
          "output_type": "display_data",
          "data": {
            "image/png": "[encoded data removed]",
            "text/plain": [
              "<Figure size 432x288 with 1 Axes>"
            ]
          },
          "metadata": {
            "tags": []
          }
        }
      ]
    },
    {
      "cell_type": "markdown",
      "metadata": {
        "id": "JLkrPNMlUqTN",
        "colab_type": "text"
      },
      "source": [
        "hacer un uotlayer para encontrar errores "
      ]
    },
    {
      "cell_type": "markdown",
      "metadata": {
        "id": "MbYqAatvX1T9",
        "colab_type": "text"
      },
      "source": [
        "##Generadores"
      ]
    },
    {
      "cell_type": "code",
      "metadata": {
        "id": "sAsUQfj8UUoy",
        "colab_type": "code",
        "colab": {
          "base_uri": "https://localhost:8080/",
          "height": 34
        },
        "outputId": "84b5fab7-db69-48ae-d49a-6749d71f0f5e"
      },
      "source": [
        "trozos = (tripFilter(trozo) for trozo in pd.read_csv(archivo, chunksize=500000))\n",
        "trozos"
      ],
      "execution_count": 56,
      "outputs": [
        {
          "output_type": "execute_result",
          "data": {
            "text/plain": [
              "<generator object <genexpr> at 0x7faec11b4938>"
            ]
          },
          "metadata": {
            "tags": []
          },
          "execution_count": 56
        }
      ]
    },
    {
      "cell_type": "code",
      "metadata": {
        "id": "xxi-ju2aYVpo",
        "colab_type": "code",
        "colab": {
          "base_uri": "https://localhost:8080/",
          "height": 34
        },
        "outputId": "4c57662a-47fa-4994-8887-1c58eca5d455"
      },
      "source": [
        "antes = huella_de_memoria()\n",
        "trozos = (tripFilter(trozo) for trozo in pd.read_csv(archivo, chunksize=500000))\n",
        "despues = huella_de_memoria()\n",
        "print(despues-antes)"
      ],
      "execution_count": 57,
      "outputs": [
        {
          "output_type": "stream",
          "text": [
            "0.0\n"
          ],
          "name": "stdout"
        }
      ]
    },
    {
      "cell_type": "code",
      "metadata": {
        "id": "0ldhIL3gY0Rx",
        "colab_type": "code",
        "colab": {}
      },
      "source": [
        "distancias = (trozo['trip_distance'].sum()for trozo in trozos)"
      ],
      "execution_count": 0,
      "outputs": []
    },
    {
      "cell_type": "code",
      "metadata": {
        "id": "VpW7rL3wZFlz",
        "colab_type": "code",
        "colab": {
          "base_uri": "https://localhost:8080/",
          "height": 34
        },
        "outputId": "21ccdd8e-d811-4002-a34e-8b272fdbd32d"
      },
      "source": [
        "sum(distancias)"
      ],
      "execution_count": 59,
      "outputs": [
        {
          "output_type": "execute_result",
          "data": {
            "text/plain": [
              "7339629.629999999"
            ]
          },
          "metadata": {
            "tags": []
          },
          "execution_count": 59
        }
      ]
    },
    {
      "cell_type": "markdown",
      "metadata": {
        "id": "aPa1V5R3bC0M",
        "colab_type": "text"
      },
      "source": [
        "ller muchos archivos"
      ]
    },
    {
      "cell_type": "code",
      "metadata": {
        "id": "t4tK5upzaPN3",
        "colab_type": "code",
        "colab": {}
      },
      "source": [
        "df = pd.read_csv('yellow_tripdata_2018-01.csv', parse_dates=[1,2])"
      ],
      "execution_count": 0,
      "outputs": []
    },
    {
      "cell_type": "code",
      "metadata": {
        "id": "VSVN5hkMbbM8",
        "colab_type": "code",
        "colab": {
          "base_uri": "https://localhost:8080/",
          "height": 391
        },
        "outputId": "726e9351-0a3f-4517-c57f-5ca614355012"
      },
      "source": [
        "df.info()"
      ],
      "execution_count": 62,
      "outputs": [
        {
          "output_type": "stream",
          "text": [
            "<class 'pandas.core.frame.DataFrame'>\n",
            "RangeIndex: 8759874 entries, 0 to 8759873\n",
            "Data columns (total 17 columns):\n",
            "VendorID                 int64\n",
            "tpep_pickup_datetime     datetime64[ns]\n",
            "tpep_dropoff_datetime    datetime64[ns]\n",
            "passenger_count          int64\n",
            "trip_distance            float64\n",
            "RatecodeID               int64\n",
            "store_and_fwd_flag       object\n",
            "PULocationID             int64\n",
            "DOLocationID             int64\n",
            "payment_type             int64\n",
            "fare_amount              float64\n",
            "extra                    float64\n",
            "mta_tax                  float64\n",
            "tip_amount               float64\n",
            "tolls_amount             float64\n",
            "improvement_surcharge    float64\n",
            "total_amount             float64\n",
            "dtypes: datetime64[ns](2), float64(8), int64(6), object(1)\n",
            "memory usage: 1.1+ GB\n"
          ],
          "name": "stdout"
        }
      ]
    },
    {
      "cell_type": "code",
      "metadata": {
        "id": "i7O0as40bc2n",
        "colab_type": "code",
        "colab": {
          "base_uri": "https://localhost:8080/",
          "height": 224
        },
        "outputId": "369c3d79-2196-4596-bee2-b6db91d5cf3f"
      },
      "source": [
        "df.head()"
      ],
      "execution_count": 63,
      "outputs": [
        {
          "output_type": "execute_result",
          "data": {
            "text/html": [
              "<div>\n",
              "<style scoped>\n",
              "    .dataframe tbody tr th:only-of-type {\n",
              "        vertical-align: middle;\n",
              "    }\n",
              "\n",
              "    .dataframe tbody tr th {\n",
              "        vertical-align: top;\n",
              "    }\n",
              "\n",
              "    .dataframe thead th {\n",
              "        text-align: right;\n",
              "    }\n",
              "</style>\n",
              "<table border=\"1\" class=\"dataframe\">\n",
              "  <thead>\n",
              "    <tr style=\"text-align: right;\">\n",
              "      <th></th>\n",
              "      <th>VendorID</th>\n",
              "      <th>tpep_pickup_datetime</th>\n",
              "      <th>tpep_dropoff_datetime</th>\n",
              "      <th>passenger_count</th>\n",
              "      <th>trip_distance</th>\n",
              "      <th>RatecodeID</th>\n",
              "      <th>store_and_fwd_flag</th>\n",
              "      <th>PULocationID</th>\n",
              "      <th>DOLocationID</th>\n",
              "      <th>payment_type</th>\n",
              "      <th>fare_amount</th>\n",
              "      <th>extra</th>\n",
              "      <th>mta_tax</th>\n",
              "      <th>tip_amount</th>\n",
              "      <th>tolls_amount</th>\n",
              "      <th>improvement_surcharge</th>\n",
              "      <th>total_amount</th>\n",
              "    </tr>\n",
              "  </thead>\n",
              "  <tbody>\n",
              "    <tr>\n",
              "      <th>0</th>\n",
              "      <td>1</td>\n",
              "      <td>2018-01-01 00:21:05</td>\n",
              "      <td>2018-01-01 00:24:23</td>\n",
              "      <td>1</td>\n",
              "      <td>0.5</td>\n",
              "      <td>1</td>\n",
              "      <td>N</td>\n",
              "      <td>41</td>\n",
              "      <td>24</td>\n",
              "      <td>2</td>\n",
              "      <td>4.5</td>\n",
              "      <td>0.5</td>\n",
              "      <td>0.5</td>\n",
              "      <td>0.00</td>\n",
              "      <td>0.0</td>\n",
              "      <td>0.3</td>\n",
              "      <td>5.80</td>\n",
              "    </tr>\n",
              "    <tr>\n",
              "      <th>1</th>\n",
              "      <td>1</td>\n",
              "      <td>2018-01-01 00:44:55</td>\n",
              "      <td>2018-01-01 01:03:05</td>\n",
              "      <td>1</td>\n",
              "      <td>2.7</td>\n",
              "      <td>1</td>\n",
              "      <td>N</td>\n",
              "      <td>239</td>\n",
              "      <td>140</td>\n",
              "      <td>2</td>\n",
              "      <td>14.0</td>\n",
              "      <td>0.5</td>\n",
              "      <td>0.5</td>\n",
              "      <td>0.00</td>\n",
              "      <td>0.0</td>\n",
              "      <td>0.3</td>\n",
              "      <td>15.30</td>\n",
              "    </tr>\n",
              "    <tr>\n",
              "      <th>2</th>\n",
              "      <td>1</td>\n",
              "      <td>2018-01-01 00:08:26</td>\n",
              "      <td>2018-01-01 00:14:21</td>\n",
              "      <td>2</td>\n",
              "      <td>0.8</td>\n",
              "      <td>1</td>\n",
              "      <td>N</td>\n",
              "      <td>262</td>\n",
              "      <td>141</td>\n",
              "      <td>1</td>\n",
              "      <td>6.0</td>\n",
              "      <td>0.5</td>\n",
              "      <td>0.5</td>\n",
              "      <td>1.00</td>\n",
              "      <td>0.0</td>\n",
              "      <td>0.3</td>\n",
              "      <td>8.30</td>\n",
              "    </tr>\n",
              "    <tr>\n",
              "      <th>3</th>\n",
              "      <td>1</td>\n",
              "      <td>2018-01-01 00:20:22</td>\n",
              "      <td>2018-01-01 00:52:51</td>\n",
              "      <td>1</td>\n",
              "      <td>10.2</td>\n",
              "      <td>1</td>\n",
              "      <td>N</td>\n",
              "      <td>140</td>\n",
              "      <td>257</td>\n",
              "      <td>2</td>\n",
              "      <td>33.5</td>\n",
              "      <td>0.5</td>\n",
              "      <td>0.5</td>\n",
              "      <td>0.00</td>\n",
              "      <td>0.0</td>\n",
              "      <td>0.3</td>\n",
              "      <td>34.80</td>\n",
              "    </tr>\n",
              "    <tr>\n",
              "      <th>4</th>\n",
              "      <td>1</td>\n",
              "      <td>2018-01-01 00:09:18</td>\n",
              "      <td>2018-01-01 00:27:06</td>\n",
              "      <td>2</td>\n",
              "      <td>2.5</td>\n",
              "      <td>1</td>\n",
              "      <td>N</td>\n",
              "      <td>246</td>\n",
              "      <td>239</td>\n",
              "      <td>1</td>\n",
              "      <td>12.5</td>\n",
              "      <td>0.5</td>\n",
              "      <td>0.5</td>\n",
              "      <td>2.75</td>\n",
              "      <td>0.0</td>\n",
              "      <td>0.3</td>\n",
              "      <td>16.55</td>\n",
              "    </tr>\n",
              "  </tbody>\n",
              "</table>\n",
              "</div>"
            ],
            "text/plain": [
              "   VendorID tpep_pickup_datetime tpep_dropoff_datetime  passenger_count  \\\n",
              "0         1  2018-01-01 00:21:05   2018-01-01 00:24:23                1   \n",
              "1         1  2018-01-01 00:44:55   2018-01-01 01:03:05                1   \n",
              "2         1  2018-01-01 00:08:26   2018-01-01 00:14:21                2   \n",
              "3         1  2018-01-01 00:20:22   2018-01-01 00:52:51                1   \n",
              "4         1  2018-01-01 00:09:18   2018-01-01 00:27:06                2   \n",
              "\n",
              "   trip_distance  RatecodeID store_and_fwd_flag  PULocationID  DOLocationID  \\\n",
              "0            0.5           1                  N            41            24   \n",
              "1            2.7           1                  N           239           140   \n",
              "2            0.8           1                  N           262           141   \n",
              "3           10.2           1                  N           140           257   \n",
              "4            2.5           1                  N           246           239   \n",
              "\n",
              "   payment_type  fare_amount  extra  mta_tax  tip_amount  tolls_amount  \\\n",
              "0             2          4.5    0.5      0.5        0.00           0.0   \n",
              "1             2         14.0    0.5      0.5        0.00           0.0   \n",
              "2             1          6.0    0.5      0.5        1.00           0.0   \n",
              "3             2         33.5    0.5      0.5        0.00           0.0   \n",
              "4             1         12.5    0.5      0.5        2.75           0.0   \n",
              "\n",
              "   improvement_surcharge  total_amount  \n",
              "0                    0.3          5.80  \n",
              "1                    0.3         15.30  \n",
              "2                    0.3          8.30  \n",
              "3                    0.3         34.80  \n",
              "4                    0.3         16.55  "
            ]
          },
          "metadata": {
            "tags": []
          },
          "execution_count": 63
        }
      ]
    },
    {
      "cell_type": "code",
      "metadata": {
        "id": "1PiWpwyZbeJy",
        "colab_type": "code",
        "colab": {}
      },
      "source": [
        "def cuentaViajesTardado(df):\n",
        "  df['duracion'] = (df.tpep_dropoff_datetime - df.tpep_pickup_datetime).dt.seconds\n",
        "  viajeTardado= df.duracion > 1200\n",
        "  resultDicc = {'n_long': [sum(viajeTardado)],\n",
        "               'n_tota': [len(df)]}\n",
        "  return pd.DataFrame(resultDicc)"
      ],
      "execution_count": 0,
      "outputs": []
    },
    {
      "cell_type": "code",
      "metadata": {
        "id": "0YVIO4TldJXE",
        "colab_type": "code",
        "colab": {}
      },
      "source": [
        "archivos = [plantilla.format(y) for y in range(1,4)]"
      ],
      "execution_count": 0,
      "outputs": []
    },
    {
      "cell_type": "code",
      "metadata": {
        "id": "MVA2VT9OdTtl",
        "colab_type": "code",
        "colab": {}
      },
      "source": [
        "dataFrames = (pd.read_csv(archivo, parse_dates=[1,2])for archivo in archivos)"
      ],
      "execution_count": 0,
      "outputs": []
    },
    {
      "cell_type": "code",
      "metadata": {
        "id": "Bbtvgnkzdh1e",
        "colab_type": "code",
        "colab": {}
      },
      "source": [
        "totales =(cuentaViajesTardado(df) for df in dataFrames)"
      ],
      "execution_count": 0,
      "outputs": []
    },
    {
      "cell_type": "code",
      "metadata": {
        "id": "SKqHbQzDdjGQ",
        "colab_type": "code",
        "colab": {}
      },
      "source": [
        "totalesTrimestrales = sum(totales)"
      ],
      "execution_count": 0,
      "outputs": []
    },
    {
      "cell_type": "code",
      "metadata": {
        "id": "ABDCX0yzeOG5",
        "colab_type": "code",
        "colab": {
          "base_uri": "https://localhost:8080/",
          "height": 80
        },
        "outputId": "62e74273-4b86-4384-a766-bf2a47dec735"
      },
      "source": [
        "totalesTrimestrales"
      ],
      "execution_count": 76,
      "outputs": [
        {
          "output_type": "execute_result",
          "data": {
            "text/html": [
              "<div>\n",
              "<style scoped>\n",
              "    .dataframe tbody tr th:only-of-type {\n",
              "        vertical-align: middle;\n",
              "    }\n",
              "\n",
              "    .dataframe tbody tr th {\n",
              "        vertical-align: top;\n",
              "    }\n",
              "\n",
              "    .dataframe thead th {\n",
              "        text-align: right;\n",
              "    }\n",
              "</style>\n",
              "<table border=\"1\" class=\"dataframe\">\n",
              "  <thead>\n",
              "    <tr style=\"text-align: right;\">\n",
              "      <th></th>\n",
              "      <th>n_long</th>\n",
              "      <th>n_tota</th>\n",
              "    </tr>\n",
              "  </thead>\n",
              "  <tbody>\n",
              "    <tr>\n",
              "      <th>0</th>\n",
              "      <td>4942465</td>\n",
              "      <td>26682326</td>\n",
              "    </tr>\n",
              "  </tbody>\n",
              "</table>\n",
              "</div>"
            ],
            "text/plain": [
              "    n_long    n_tota\n",
              "0  4942465  26682326"
            ]
          },
          "metadata": {
            "tags": []
          },
          "execution_count": 76
        }
      ]
    },
    {
      "cell_type": "code",
      "metadata": {
        "id": "Fk_8F2v4ewrQ",
        "colab_type": "code",
        "colab": {
          "base_uri": "https://localhost:8080/",
          "height": 51
        },
        "outputId": "79f44a90-cae3-4f28-af80-577fd82edc54"
      },
      "source": [
        "totalesTrimestrales['n_long']/totalesTrimestrales['n_tota']"
      ],
      "execution_count": 78,
      "outputs": [
        {
          "output_type": "execute_result",
          "data": {
            "text/plain": [
              "0    0.185234\n",
              "dtype: float64"
            ]
          },
          "metadata": {
            "tags": []
          },
          "execution_count": 78
        }
      ]
    },
    {
      "cell_type": "markdown",
      "metadata": {
        "id": "rZWYhFDjfm7e",
        "colab_type": "text"
      },
      "source": [
        "tarea huella d ememoria y tiempo\n",
        "3 meses\n",
        "6 meses\n",
        "9 meses \n",
        "12 meses"
      ]
    },
    {
      "cell_type": "code",
      "metadata": {
        "id": "v99lg2vMfXen",
        "colab_type": "code",
        "colab": {}
      },
      "source": [
        ""
      ],
      "execution_count": 0,
      "outputs": []
    }
  ]
}