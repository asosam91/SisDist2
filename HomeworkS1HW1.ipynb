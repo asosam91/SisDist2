{
  "nbformat": 4,
  "nbformat_minor": 0,
  "metadata": {
    "colab": {
      "name": "HomeworkS1HW1.ipynb",
      "version": "0.3.2",
      "provenance": [],
      "include_colab_link": true
    },
    "kernelspec": {
      "name": "python3",
      "display_name": "Python 3"
    }
  },
  "cells": [
    {
      "cell_type": "markdown",
      "metadata": {
        "id": "view-in-github",
        "colab_type": "text"
      },
      "source": [
        "<a href=\"https://colab.research.google.com/github/asosam91/SisDist2/blob/master/HomeworkS1HW1.ipynb\" target=\"_parent\"><img src=\"https://colab.research.google.com/assets/colab-badge.svg\" alt=\"Open In Colab\"/></a>"
      ]
    },
    {
      "cell_type": "markdown",
      "metadata": {
        "id": "2CPX5GoWWMSs",
        "colab_type": "text"
      },
      "source": [
        ">>>>> # Entorno de Google"
      ]
    },
    {
      "cell_type": "code",
      "metadata": {
        "id": "rlJjaf0-LVE8",
        "colab_type": "code",
        "colab": {}
      },
      "source": [
        "import psutil, os\n",
        "import numpy as np"
      ],
      "execution_count": 0,
      "outputs": []
    },
    {
      "cell_type": "code",
      "metadata": {
        "id": "7HkPTbUkLY7h",
        "colab_type": "code",
        "colab": {}
      },
      "source": [
        "def huella_de_memoria():\n",
        "  '''Regresa al memoria usada por un proceso en python'''\n",
        "  mem = psutil.Process(os.getpid()).memory_info().rss\n",
        "  return (mem/1024**2)"
      ],
      "execution_count": 0,
      "outputs": []
    },
    {
      "cell_type": "markdown",
      "metadata": {
        "id": "szcOElWrL1cP",
        "colab_type": "text"
      },
      "source": [
        "#Excercise\n",
        "\n",
        "reportar el uso de memoria de la siguinete estructura:\n",
        "1. memoria del arreglo `celsius`\n",
        "2. memoria en MB del proceso _antes_ de realizar la operacion en 3\n",
        "3. convertir `celsius` a `fahrenheit` usando 9/5 celsius +32\n",
        "4. indicar la diferencia de memoria _despues_ de la operacion\n",
        "5. cual es la memoria del arreglo `fahrenheit`(sin usar el metodo)\n",
        "6. cual es la memoria dle arreglo?"
      ]
    },
    {
      "cell_type": "code",
      "metadata": {
        "id": "iIhX58YhL0gF",
        "colab_type": "code",
        "outputId": "bbb5d13b-7700-40af-f382-430e33181ba1",
        "colab": {
          "base_uri": "https://localhost:8080/",
          "height": 51
        }
      },
      "source": [
        "celsius = np.arange(-4.,0.,4/366000)\n",
        "print(\"1.- memoria del arreglo celsius: \")\n",
        "celsius.nbytes/(1024**2)"
      ],
      "execution_count": 0,
      "outputs": [
        {
          "output_type": "stream",
          "text": [
            "1.- memoria del arreglo celsius: \n"
          ],
          "name": "stdout"
        },
        {
          "output_type": "execute_result",
          "data": {
            "text/plain": [
              "2.7923583984375"
            ]
          },
          "metadata": {
            "tags": []
          },
          "execution_count": 3
        }
      ]
    },
    {
      "cell_type": "code",
      "metadata": {
        "id": "wwhh3nxMMOA4",
        "colab_type": "code",
        "outputId": "295670b1-51eb-4fa5-d15d-411242209ec4",
        "colab": {
          "base_uri": "https://localhost:8080/",
          "height": 51
        }
      },
      "source": [
        "antes = huella_de_memoria()\n",
        "print(\"2.- memoria en MB del proceso antes de realizar la operacion: \")\n",
        "antes"
      ],
      "execution_count": 0,
      "outputs": [
        {
          "output_type": "stream",
          "text": [
            "2.- memoria en MB del proceso antes de realizar la operacion: \n"
          ],
          "name": "stdout"
        },
        {
          "output_type": "execute_result",
          "data": {
            "text/plain": [
              "117.04296875"
            ]
          },
          "metadata": {
            "tags": []
          },
          "execution_count": 4
        }
      ]
    },
    {
      "cell_type": "code",
      "metadata": {
        "id": "7FnQcNONMSo7",
        "colab_type": "code",
        "outputId": "f1c7c084-b512-40eb-c6a6-1cd03b1723db",
        "colab": {
          "base_uri": "https://localhost:8080/",
          "height": 34
        }
      },
      "source": [
        "print(\"3.- convertir celsius a fahrenheit usando 9/5 celsius +32 \")\n",
        "fah = 32+celsius*9/5"
      ],
      "execution_count": 0,
      "outputs": [
        {
          "output_type": "stream",
          "text": [
            "3.- convertir celsius a fahrenheit usando 9/5 celsius +32 \n"
          ],
          "name": "stdout"
        }
      ]
    },
    {
      "cell_type": "code",
      "metadata": {
        "id": "_cZLbaALMadY",
        "colab_type": "code",
        "colab": {}
      },
      "source": [
        "despues = huella_de_memoria()"
      ],
      "execution_count": 0,
      "outputs": []
    },
    {
      "cell_type": "code",
      "metadata": {
        "id": "LPMIfXUEMdvo",
        "colab_type": "code",
        "outputId": "071f49c5-bbcb-4835-a5dc-0a4ecdd44c5c",
        "colab": {
          "base_uri": "https://localhost:8080/",
          "height": 51
        }
      },
      "source": [
        "print(\"4.- Diferencia de memoria despues de la operacion: \")\n",
        "print(despues-antes)"
      ],
      "execution_count": 0,
      "outputs": [
        {
          "output_type": "stream",
          "text": [
            "4.- Diferencia de memoria despues de la operacion: \n",
            "2.75390625\n"
          ],
          "name": "stdout"
        }
      ]
    },
    {
      "cell_type": "code",
      "metadata": {
        "id": "liNjwAilQIGN",
        "colab_type": "code",
        "outputId": "bce52396-35de-4449-b760-22c11351f76a",
        "colab": {
          "base_uri": "https://localhost:8080/",
          "height": 51
        }
      },
      "source": [
        "print(\"5.- Cúal es la memoria del arreglo fahrenheit(sin usar el metodo)\")\n",
        "print(\"R: L memoria del arreglo deberia ser la misma\")"
      ],
      "execution_count": 0,
      "outputs": [
        {
          "output_type": "stream",
          "text": [
            "5.- Cúal es la memoria del arreglo fahrenheit(sin usar el metodo)\n",
            "R: L memoria del arreglo deberia ser la misma\n"
          ],
          "name": "stdout"
        }
      ]
    },
    {
      "cell_type": "code",
      "metadata": {
        "id": "-oe1prArMgSn",
        "colab_type": "code",
        "outputId": "7f4460d9-5eef-46be-f338-8d1a65e7faea",
        "colab": {
          "base_uri": "https://localhost:8080/",
          "height": 51
        }
      },
      "source": [
        "print(\"6.- Indicar la memoria del arreglo: \")\n",
        "fah.nbytes/(1024**2)"
      ],
      "execution_count": 0,
      "outputs": [
        {
          "output_type": "stream",
          "text": [
            "6.- Indicar la memoria del arreglo: \n"
          ],
          "name": "stdout"
        },
        {
          "output_type": "execute_result",
          "data": {
            "text/plain": [
              "2.7923583984375"
            ]
          },
          "metadata": {
            "tags": []
          },
          "execution_count": 9
        }
      ]
    }
  ]
}