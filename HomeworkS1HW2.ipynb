{
  "nbformat": 4,
  "nbformat_minor": 0,
  "metadata": {
    "colab": {
      "name": "HomeworkS1HW2.ipynb",
      "version": "0.3.2",
      "provenance": [],
      "include_colab_link": true
    },
    "kernelspec": {
      "name": "python3",
      "display_name": "Python 3"
    }
  },
  "cells": [
    {
      "cell_type": "markdown",
      "metadata": {
        "id": "view-in-github",
        "colab_type": "text"
      },
      "source": [
        "<a href=\"https://colab.research.google.com/github/asosam91/SisDist2/blob/master/HomeworkS1HW2.ipynb\" target=\"_parent\"><img src=\"https://colab.research.google.com/assets/colab-badge.svg\" alt=\"Open In Colab\"/></a>"
      ]
    },
    {
      "cell_type": "markdown",
      "metadata": {
        "id": "qzNwb5CNVhnY",
        "colab_type": "text"
      },
      "source": [
        ">>># Entorno local de JUPYTER\n",
        "\n",
        "\n",
        "\n"
      ]
    },
    {
      "cell_type": "code",
      "metadata": {
        "id": "rlJjaf0-LVE8",
        "colab_type": "code",
        "colab": {}
      },
      "source": [
        "import psutil, os\n",
        "import numpy as np"
      ],
      "execution_count": 0,
      "outputs": []
    },
    {
      "cell_type": "code",
      "metadata": {
        "id": "7HkPTbUkLY7h",
        "colab_type": "code",
        "colab": {}
      },
      "source": [
        "def huella_de_memoria():\n",
        "  '''Regresa al memoria usada por un proceso en python'''\n",
        "  mem = psutil.Process(os.getpid()).memory_info().rss\n",
        "  return (mem/1024**2)"
      ],
      "execution_count": 0,
      "outputs": []
    },
    {
      "cell_type": "markdown",
      "metadata": {
        "id": "szcOElWrL1cP",
        "colab_type": "text"
      },
      "source": [
        "#Excercise\n",
        "\n",
        "reportar el uso de memoria de la siguinete estructura:\n",
        "1. memoria del arreglo `celsius`\n",
        "2. memoria en MB del proceso _antes_ de realizar la operacion en 3\n",
        "3. convertir `celsius` a `fahrenheit` usando 9/5 celsius +32\n",
        "4. indicar la diferencia de memoria _despues_ de la operacion\n",
        "5. cual es la memoria del arreglo `fahrenheit`(sin usar el metodo)\n",
        "6. cual es la memoria dle arreglo?"
      ]
    },
    {
      "cell_type": "code",
      "metadata": {
        "id": "iIhX58YhL0gF",
        "colab_type": "code",
        "colab": {
          "base_uri": "https://localhost:8080/",
          "height": 51
        },
        "outputId": "7711edf0-5edd-40bd-a987-c63b50ab70a8"
      },
      "source": [
        "celsius = np.arange(-4.,0.,4/366000)\n",
        "print(\"1.- memoria del arreglo celsius: \")\n",
        "celsius.nbytes/(1024**2)"
      ],
      "execution_count": 3,
      "outputs": [
        {
          "output_type": "stream",
          "text": [
            "1.- memoria del arreglo celsius: \n"
          ],
          "name": "stdout"
        },
        {
          "output_type": "execute_result",
          "data": {
            "text/plain": [
              "2.7923583984375"
            ]
          },
          "metadata": {
            "tags": []
          },
          "execution_count": 3
        }
      ]
    },
    {
      "cell_type": "code",
      "metadata": {
        "id": "wwhh3nxMMOA4",
        "colab_type": "code",
        "colab": {
          "base_uri": "https://localhost:8080/",
          "height": 51
        },
        "outputId": "b97d5557-4b0f-4216-d54c-a5cb10b1c994"
      },
      "source": [
        "antes = huella_de_memoria()\n",
        "print(\"2.- memoria en MB del proceso antes de realizar la operacion: \")\n",
        "antes"
      ],
      "execution_count": 4,
      "outputs": [
        {
          "output_type": "stream",
          "text": [
            "2.- memoria en MB del proceso antes de realizar la operacion: \n"
          ],
          "name": "stdout"
        },
        {
          "output_type": "execute_result",
          "data": {
            "text/plain": [
              "52.90625"
            ]
          },
          "metadata": {
            "tags": []
          },
          "execution_count": 4
        }
      ]
    },
    {
      "cell_type": "code",
      "metadata": {
        "id": "7FnQcNONMSo7",
        "colab_type": "code",
        "colab": {
          "base_uri": "https://localhost:8080/",
          "height": 34
        },
        "outputId": "060c1684-4c81-4f09-f54a-00ead4fabf87"
      },
      "source": [
        "print(\"3.- convertir celsius a fahrenheit usando 9/5 celsius +32 \")\n",
        "fah = 32+celsius*9/5"
      ],
      "execution_count": 5,
      "outputs": [
        {
          "output_type": "stream",
          "text": [
            "3.- convertir celsius a fahrenheit usando 9/5 celsius +32 \n"
          ],
          "name": "stdout"
        }
      ]
    },
    {
      "cell_type": "code",
      "metadata": {
        "id": "_cZLbaALMadY",
        "colab_type": "code",
        "colab": {}
      },
      "source": [
        "despues = huella_de_memoria()"
      ],
      "execution_count": 0,
      "outputs": []
    },
    {
      "cell_type": "code",
      "metadata": {
        "id": "LPMIfXUEMdvo",
        "colab_type": "code",
        "colab": {
          "base_uri": "https://localhost:8080/",
          "height": 51
        },
        "outputId": "6b8b81e9-8c40-49b3-ac9d-47254552084e"
      },
      "source": [
        "print(\"4.- Diferencia de memoria despues de la operacion: \")\n",
        "print(despues-antes)"
      ],
      "execution_count": 7,
      "outputs": [
        {
          "output_type": "stream",
          "text": [
            "4.- Diferencia de memoria despues de la operacion: \n",
            "2.8203125\n"
          ],
          "name": "stdout"
        }
      ]
    },
    {
      "cell_type": "code",
      "metadata": {
        "id": "liNjwAilQIGN",
        "colab_type": "code",
        "colab": {
          "base_uri": "https://localhost:8080/",
          "height": 51
        },
        "outputId": "e8a335f3-8563-475f-8ebf-1fba972b501e"
      },
      "source": [
        "print(\"5.- Cúal es la memoria del arreglo fahrenheit(sin usar el metodo)\")\n",
        "print(\"R: La memoria del arreglo deberia ser la misma\")"
      ],
      "execution_count": 10,
      "outputs": [
        {
          "output_type": "stream",
          "text": [
            "5.- Cúal es la memoria del arreglo fahrenheit(sin usar el metodo)\n",
            "R: La memoria del arreglo deberia ser la misma\n"
          ],
          "name": "stdout"
        }
      ]
    },
    {
      "cell_type": "code",
      "metadata": {
        "id": "-oe1prArMgSn",
        "colab_type": "code",
        "colab": {
          "base_uri": "https://localhost:8080/",
          "height": 51
        },
        "outputId": "2076e3b6-10d8-4be3-cb79-fcf09c8b034c"
      },
      "source": [
        "print(\"6.- Indicar la memoria del arreglo: \")\n",
        "fah.nbytes/(1024**2)"
      ],
      "execution_count": 9,
      "outputs": [
        {
          "output_type": "stream",
          "text": [
            "6.- Indicar la memoria del arreglo: \n"
          ],
          "name": "stdout"
        },
        {
          "output_type": "execute_result",
          "data": {
            "text/plain": [
              "2.7923583984375"
            ]
          },
          "metadata": {
            "tags": []
          },
          "execution_count": 9
        }
      ]
    }
  ]
}