{
  "nbformat": 4,
  "nbformat_minor": 0,
  "metadata": {
    "colab": {
      "name": "TareaBBTarea.ipynb",
      "version": "0.3.2",
      "provenance": [],
      "include_colab_link": true
    },
    "kernelspec": {
      "name": "python3",
      "display_name": "Python 3"
    }
  },
  "cells": [
    {
      "cell_type": "markdown",
      "metadata": {
        "id": "view-in-github",
        "colab_type": "text"
      },
      "source": [
        "<a href=\"https://colab.research.google.com/github/asosam91/SisDist2/blob/master/TareaBBTarea.ipynb\" target=\"_parent\"><img src=\"https://colab.research.google.com/assets/colab-badge.svg\" alt=\"Open In Colab\"/></a>"
      ]
    },
    {
      "cell_type": "code",
      "metadata": {
        "id": "li6jpsF8l-Nr",
        "colab_type": "code",
        "colab": {}
      },
      "source": [
        "import os, datetime\n",
        "import pandas as pd\n",
        "import dask"
      ],
      "execution_count": 0,
      "outputs": []
    },
    {
      "cell_type": "code",
      "metadata": {
        "id": "7-Rvr5lBmXVC",
        "colab_type": "code",
        "colab": {}
      },
      "source": [
        "if not os.path.exists('data'):\n",
        "  os.mkdir('data')"
      ],
      "execution_count": 0,
      "outputs": []
    },
    {
      "cell_type": "code",
      "metadata": {
        "id": "t3EmVud3mfu-",
        "colab_type": "code",
        "colab": {}
      },
      "source": [
        "def name(i):\n",
        "  '''fecha para un archivo dado el indice i'''\n",
        "  return str(datetime.date(2001,1,1) + i*datetime.timedelta(days=1))"
      ],
      "execution_count": 0,
      "outputs": []
    },
    {
      "cell_type": "code",
      "metadata": {
        "id": "I9m0cYTHmmCk",
        "colab_type": "code",
        "colab": {}
      },
      "source": [
        "# se crean los datasets con dask\n",
        "df = dask.datasets.timeseries()\n",
        "df.to_csv('data/*.csv', name_function=name);"
      ],
      "execution_count": 0,
      "outputs": []
    },
    {
      "cell_type": "code",
      "metadata": {
        "id": "DXzy0MHAm5VQ",
        "colab_type": "code",
        "colab": {}
      },
      "source": [
        "# se leen los archivos con pandas\n",
        "df = pd.read_csv('data/2001-01-01.csv')"
      ],
      "execution_count": 0,
      "outputs": []
    },
    {
      "cell_type": "code",
      "metadata": {
        "id": "R0sJ2q98oKYJ",
        "colab_type": "code",
        "colab": {}
      },
      "source": [
        "es_wendy = (df['name'] == 'Wendy')"
      ],
      "execution_count": 0,
      "outputs": []
    },
    {
      "cell_type": "code",
      "metadata": {
        "id": "7fEAy-1wryLP",
        "colab_type": "code",
        "colab": {}
      },
      "source": [
        "montos_wendy = ( df.loc[es_wendy, 'x'])"
      ],
      "execution_count": 0,
      "outputs": []
    },
    {
      "cell_type": "code",
      "metadata": {
        "id": "knr8PXMIr0WV",
        "colab_type": "code",
        "colab": {}
      },
      "source": [
        "wendy_diff = montos_wendy.sum()"
      ],
      "execution_count": 0,
      "outputs": []
    },
    {
      "cell_type": "markdown",
      "metadata": {
        "id": "2YexnjV5w78O",
        "colab_type": "text"
      },
      "source": [
        "la funcion anterior para todos los archivos"
      ]
    },
    {
      "cell_type": "code",
      "metadata": {
        "id": "6tKZSJEfwn3L",
        "colab_type": "code",
        "colab": {}
      },
      "source": [
        "nombre = 'data/2001-01-'\n",
        "fechas = []\n",
        "for i in range(1, 31):\n",
        "  cadena = nombre + '{:02d}'.format(i) + '.csv'\n",
        "  fechas.append(pd.read_csv(cadena))"
      ],
      "execution_count": 0,
      "outputs": []
    },
    {
      "cell_type": "code",
      "metadata": {
        "id": "BW0VWGh3zE8X",
        "colab_type": "code",
        "colab": {}
      },
      "source": [
        "variable = []\n",
        "for i in range(len(fechas)):\n",
        "  es_wendy = (fechas[i]['name'] == 'Wendy')\n",
        "  montos_wendy = (fechas[i].loc[es_wendy, 'x'])\n",
        "  wendy_diff = montos_wendy.sum()\n",
        "  variable.append(wendy_diff)"
      ],
      "execution_count": 0,
      "outputs": []
    },
    {
      "cell_type": "code",
      "metadata": {
        "id": "DTFchegRzRIV",
        "colab_type": "code",
        "colab": {}
      },
      "source": [
        "suma = 0\n",
        "for i in range(len(variable)):\n",
        "  suma = suma + variable[i]"
      ],
      "execution_count": 0,
      "outputs": []
    },
    {
      "cell_type": "code",
      "metadata": {
        "id": "P8jIDaheHmb3",
        "colab_type": "code",
        "colab": {
          "base_uri": "https://localhost:8080/",
          "height": 34
        },
        "outputId": "f55aeafe-3663-4462-c74b-43d8b17577f4"
      },
      "source": [
        "print('El resultado es: {}'.format(suma))"
      ],
      "execution_count": 12,
      "outputs": [
        {
          "output_type": "stream",
          "text": [
            "El resultado es: -261.5443700601101\n"
          ],
          "name": "stdout"
        }
      ]
    }
  ]
}