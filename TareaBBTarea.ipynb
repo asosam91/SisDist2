{
  "nbformat": 4,
  "nbformat_minor": 0,
  "metadata": {
    "colab": {
      "name": "TareaBBTarea.ipynb",
      "version": "0.3.2",
      "provenance": [],
      "include_colab_link": true
    },
    "kernelspec": {
      "name": "python3",
      "display_name": "Python 3"
    }
  },
  "cells": [
    {
      "cell_type": "markdown",
      "metadata": {
        "id": "view-in-github",
        "colab_type": "text"
      },
      "source": [
        "<a href=\"https://colab.research.google.com/github/asosam91/SisDist2/blob/master/TareaBBTarea.ipynb\" target=\"_parent\"><img src=\"https://colab.research.google.com/assets/colab-badge.svg\" alt=\"Open In Colab\"/></a>"
      ]
    },
    {
      "cell_type": "code",
      "metadata": {
        "id": "li6jpsF8l-Nr",
        "colab_type": "code",
        "colab": {}
      },
      "source": [
        "import os, datetime\n",
        "import pandas as pd\n",
        "import dask"
      ],
      "execution_count": 0,
      "outputs": []
    },
    {
      "cell_type": "code",
      "metadata": {
        "id": "7-Rvr5lBmXVC",
        "colab_type": "code",
        "colab": {}
      },
      "source": [
        "if not os.path.exists('data'):\n",
        "  os.mkdir('data')"
      ],
      "execution_count": 0,
      "outputs": []
    },
    {
      "cell_type": "code",
      "metadata": {
        "id": "t3EmVud3mfu-",
        "colab_type": "code",
        "colab": {}
      },
      "source": [
        "def name(i):\n",
        "  '''fecha para un archivo dado el indice i'''\n",
        "  return str(datetime.date(2001,1,1) + i*datetime.timedelta(days=1))"
      ],
      "execution_count": 0,
      "outputs": []
    },
    {
      "cell_type": "code",
      "metadata": {
        "id": "I9m0cYTHmmCk",
        "colab_type": "code",
        "colab": {
          "base_uri": "https://localhost:8080/",
          "height": 527
        },
        "outputId": "fb946812-76ee-42f4-ebc8-36e9d186cdb1"
      },
      "source": [
        "# se crean los datasets con dask\n",
        "df = dask.datasets.timeseries()\n",
        "df.to_csv('data/*.csv', name_function=name)"
      ],
      "execution_count": 48,
      "outputs": [
        {
          "output_type": "execute_result",
          "data": {
            "text/plain": [
              "['data/2001-01-01.csv',\n",
              " 'data/2001-01-02.csv',\n",
              " 'data/2001-01-03.csv',\n",
              " 'data/2001-01-04.csv',\n",
              " 'data/2001-01-05.csv',\n",
              " 'data/2001-01-06.csv',\n",
              " 'data/2001-01-07.csv',\n",
              " 'data/2001-01-08.csv',\n",
              " 'data/2001-01-09.csv',\n",
              " 'data/2001-01-10.csv',\n",
              " 'data/2001-01-11.csv',\n",
              " 'data/2001-01-12.csv',\n",
              " 'data/2001-01-13.csv',\n",
              " 'data/2001-01-14.csv',\n",
              " 'data/2001-01-15.csv',\n",
              " 'data/2001-01-16.csv',\n",
              " 'data/2001-01-17.csv',\n",
              " 'data/2001-01-18.csv',\n",
              " 'data/2001-01-19.csv',\n",
              " 'data/2001-01-20.csv',\n",
              " 'data/2001-01-21.csv',\n",
              " 'data/2001-01-22.csv',\n",
              " 'data/2001-01-23.csv',\n",
              " 'data/2001-01-24.csv',\n",
              " 'data/2001-01-25.csv',\n",
              " 'data/2001-01-26.csv',\n",
              " 'data/2001-01-27.csv',\n",
              " 'data/2001-01-28.csv',\n",
              " 'data/2001-01-29.csv',\n",
              " 'data/2001-01-30.csv']"
            ]
          },
          "metadata": {
            "tags": []
          },
          "execution_count": 48
        }
      ]
    },
    {
      "cell_type": "code",
      "metadata": {
        "id": "DXzy0MHAm5VQ",
        "colab_type": "code",
        "colab": {
          "base_uri": "https://localhost:8080/",
          "height": 204
        },
        "outputId": "54146ad8-0d95-4342-dc9b-94885ce77b73"
      },
      "source": [
        "# se leen los archivos con pandas\n",
        "df = pd.read_csv('data/2001-01-01.csv')\n",
        "df.head()"
      ],
      "execution_count": 49,
      "outputs": [
        {
          "output_type": "execute_result",
          "data": {
            "text/html": [
              "<div>\n",
              "<style scoped>\n",
              "    .dataframe tbody tr th:only-of-type {\n",
              "        vertical-align: middle;\n",
              "    }\n",
              "\n",
              "    .dataframe tbody tr th {\n",
              "        vertical-align: top;\n",
              "    }\n",
              "\n",
              "    .dataframe thead th {\n",
              "        text-align: right;\n",
              "    }\n",
              "</style>\n",
              "<table border=\"1\" class=\"dataframe\">\n",
              "  <thead>\n",
              "    <tr style=\"text-align: right;\">\n",
              "      <th></th>\n",
              "      <th>timestamp</th>\n",
              "      <th>id</th>\n",
              "      <th>name</th>\n",
              "      <th>x</th>\n",
              "      <th>y</th>\n",
              "    </tr>\n",
              "  </thead>\n",
              "  <tbody>\n",
              "    <tr>\n",
              "      <th>0</th>\n",
              "      <td>2000-01-01 00:00:00</td>\n",
              "      <td>1012</td>\n",
              "      <td>Ray</td>\n",
              "      <td>-0.210941</td>\n",
              "      <td>0.424764</td>\n",
              "    </tr>\n",
              "    <tr>\n",
              "      <th>1</th>\n",
              "      <td>2000-01-01 00:00:01</td>\n",
              "      <td>1033</td>\n",
              "      <td>Bob</td>\n",
              "      <td>-0.806528</td>\n",
              "      <td>0.022945</td>\n",
              "    </tr>\n",
              "    <tr>\n",
              "      <th>2</th>\n",
              "      <td>2000-01-01 00:00:02</td>\n",
              "      <td>1003</td>\n",
              "      <td>Ingrid</td>\n",
              "      <td>-0.008916</td>\n",
              "      <td>-0.891003</td>\n",
              "    </tr>\n",
              "    <tr>\n",
              "      <th>3</th>\n",
              "      <td>2000-01-01 00:00:03</td>\n",
              "      <td>1021</td>\n",
              "      <td>Patricia</td>\n",
              "      <td>0.248899</td>\n",
              "      <td>-0.515094</td>\n",
              "    </tr>\n",
              "    <tr>\n",
              "      <th>4</th>\n",
              "      <td>2000-01-01 00:00:04</td>\n",
              "      <td>1000</td>\n",
              "      <td>Sarah</td>\n",
              "      <td>0.064672</td>\n",
              "      <td>-0.228752</td>\n",
              "    </tr>\n",
              "  </tbody>\n",
              "</table>\n",
              "</div>"
            ],
            "text/plain": [
              "             timestamp    id      name         x         y\n",
              "0  2000-01-01 00:00:00  1012       Ray -0.210941  0.424764\n",
              "1  2000-01-01 00:00:01  1033       Bob -0.806528  0.022945\n",
              "2  2000-01-01 00:00:02  1003    Ingrid -0.008916 -0.891003\n",
              "3  2000-01-01 00:00:03  1021  Patricia  0.248899 -0.515094\n",
              "4  2000-01-01 00:00:04  1000     Sarah  0.064672 -0.228752"
            ]
          },
          "metadata": {
            "tags": []
          },
          "execution_count": 49
        }
      ]
    },
    {
      "cell_type": "code",
      "metadata": {
        "id": "R0sJ2q98oKYJ",
        "colab_type": "code",
        "colab": {}
      },
      "source": [
        "es_wendy = (df['name'] == 'Wendy')"
      ],
      "execution_count": 0,
      "outputs": []
    },
    {
      "cell_type": "code",
      "metadata": {
        "id": "7fEAy-1wryLP",
        "colab_type": "code",
        "colab": {}
      },
      "source": [
        "montos_wendy = ( df.loc[es_wendy, 'x'])"
      ],
      "execution_count": 0,
      "outputs": []
    },
    {
      "cell_type": "code",
      "metadata": {
        "id": "knr8PXMIr0WV",
        "colab_type": "code",
        "colab": {}
      },
      "source": [
        "wendy_diff = montos_wendy.sum()"
      ],
      "execution_count": 0,
      "outputs": []
    },
    {
      "cell_type": "code",
      "metadata": {
        "id": "WtWnljp3wcNv",
        "colab_type": "code",
        "colab": {
          "base_uri": "https://localhost:8080/",
          "height": 34
        },
        "outputId": "6a64d0b3-8936-4f6f-b874-ee516b486ec1"
      },
      "source": [
        "wendy_diff"
      ],
      "execution_count": 53,
      "outputs": [
        {
          "output_type": "execute_result",
          "data": {
            "text/plain": [
              "54.819609934964"
            ]
          },
          "metadata": {
            "tags": []
          },
          "execution_count": 53
        }
      ]
    },
    {
      "cell_type": "markdown",
      "metadata": {
        "id": "2YexnjV5w78O",
        "colab_type": "text"
      },
      "source": [
        "la funcion anterior para todos los archivos"
      ]
    },
    {
      "cell_type": "code",
      "metadata": {
        "id": "6tKZSJEfwn3L",
        "colab_type": "code",
        "colab": {}
      },
      "source": [
        "nombre = 'data/2001-01-'\n",
        "fechas = []\n",
        "for i in range(1, 31):\n",
        "  cadena = nombre + '{:02d}'.format(i) + '.csv'\n",
        "  fechas.append(pd.read_csv(cadena))"
      ],
      "execution_count": 0,
      "outputs": []
    },
    {
      "cell_type": "code",
      "metadata": {
        "id": "BW0VWGh3zE8X",
        "colab_type": "code",
        "colab": {}
      },
      "source": [
        "variable = []\n",
        "for i in range(len(fechas)):\n",
        "  es_wendy = (fechas[i]['name'] == 'Wendy')\n",
        "  montos_wendy = (fechas[i].loc[es_wendy, 'x'])\n",
        "  wendy_diff = montos_wendy.sum()\n",
        "  variable.append(wendy_diff)"
      ],
      "execution_count": 0,
      "outputs": []
    },
    {
      "cell_type": "code",
      "metadata": {
        "id": "DTFchegRzRIV",
        "colab_type": "code",
        "colab": {}
      },
      "source": [
        "suma = 0\n",
        "for i in range(len(variable)):\n",
        "  suma = suma + variable[i]"
      ],
      "execution_count": 0,
      "outputs": []
    },
    {
      "cell_type": "code",
      "metadata": {
        "id": "P8jIDaheHmb3",
        "colab_type": "code",
        "colab": {
          "base_uri": "https://localhost:8080/",
          "height": 34
        },
        "outputId": "9e0250c6-87be-4e2f-f3ee-38c9580014b4"
      },
      "source": [
        "suma"
      ],
      "execution_count": 59,
      "outputs": [
        {
          "output_type": "execute_result",
          "data": {
            "text/plain": [
              "148.57854399964089"
            ]
          },
          "metadata": {
            "tags": []
          },
          "execution_count": 59
        }
      ]
    },
    {
      "cell_type": "code",
      "metadata": {
        "id": "oPr_-Z9_H3J6",
        "colab_type": "code",
        "colab": {}
      },
      "source": [
        ""
      ],
      "execution_count": 0,
      "outputs": []
    }
  ]
}