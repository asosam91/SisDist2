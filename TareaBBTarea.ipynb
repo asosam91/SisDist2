{
  "nbformat": 4,
  "nbformat_minor": 0,
  "metadata": {
    "colab": {
      "name": "TareaBBTarea.ipynb",
      "version": "0.3.2",
      "provenance": [],
      "include_colab_link": true
    },
    "kernelspec": {
      "name": "python3",
      "display_name": "Python 3"
    }
  },
  "cells": [
    {
      "cell_type": "markdown",
      "metadata": {
        "id": "view-in-github",
        "colab_type": "text"
      },
      "source": [
        "<a href=\"https://colab.research.google.com/github/asosam91/SisDist2/blob/master/TareaBBTarea.ipynb\" target=\"_parent\"><img src=\"https://colab.research.google.com/assets/colab-badge.svg\" alt=\"Open In Colab\"/></a>"
      ]
    },
    {
      "cell_type": "code",
      "metadata": {
        "id": "li6jpsF8l-Nr",
        "colab_type": "code",
        "colab": {}
      },
      "source": [
        "import os, datetime\n",
        "import pandas as pd\n",
        "import dask"
      ],
      "execution_count": 0,
      "outputs": []
    },
    {
      "cell_type": "code",
      "metadata": {
        "id": "7-Rvr5lBmXVC",
        "colab_type": "code",
        "colab": {}
      },
      "source": [
        "if not os.path.exists('data'):\n",
        "  os.mkdir('data')"
      ],
      "execution_count": 0,
      "outputs": []
    },
    {
      "cell_type": "code",
      "metadata": {
        "id": "t3EmVud3mfu-",
        "colab_type": "code",
        "colab": {}
      },
      "source": [
        "def name(i):\n",
        "  '''fecha para un archivo dado el indice i'''\n",
        "  return str(datetime.date(2001,1,1) + i*datetime.timedelta(days=1))"
      ],
      "execution_count": 0,
      "outputs": []
    },
    {
      "cell_type": "code",
      "metadata": {
        "id": "I9m0cYTHmmCk",
        "colab_type": "code",
        "colab": {}
      },
      "source": [
        "# se crean los datasets con dask\n",
        "df = dask.datasets.timeseries()\n",
        "df.to_csv('data/*.csv', name_function=name)"
      ],
      "execution_count": 0,
      "outputs": []
    },
    {
      "cell_type": "code",
      "metadata": {
        "id": "DXzy0MHAm5VQ",
        "colab_type": "code",
        "colab": {}
      },
      "source": [
        "# se leen los archivos con pandas\n",
        "df = pd.read_csv('data/2001-01-01.csv')\n",
        "df.head()"
      ],
      "execution_count": 0,
      "outputs": []
    },
    {
      "cell_type": "code",
      "metadata": {
        "id": "R0sJ2q98oKYJ",
        "colab_type": "code",
        "colab": {}
      },
      "source": [
        "es_wendy = (df['name'] == 'Wendy')"
      ],
      "execution_count": 0,
      "outputs": []
    },
    {
      "cell_type": "code",
      "metadata": {
        "id": "7fEAy-1wryLP",
        "colab_type": "code",
        "colab": {}
      },
      "source": [
        "montos_wendy = ( df.loc[es_wendy, 'x'])"
      ],
      "execution_count": 0,
      "outputs": []
    },
    {
      "cell_type": "code",
      "metadata": {
        "id": "knr8PXMIr0WV",
        "colab_type": "code",
        "colab": {}
      },
      "source": [
        "wendy_diff = montos_wendy.sum()"
      ],
      "execution_count": 0,
      "outputs": []
    },
    {
      "cell_type": "code",
      "metadata": {
        "id": "WtWnljp3wcNv",
        "colab_type": "code",
        "colab": {
          "base_uri": "https://localhost:8080/",
          "height": 34
        },
        "outputId": "d002c88a-7815-410a-a196-1067ed5645c3"
      },
      "source": [
        "wendy_diff"
      ],
      "execution_count": 25,
      "outputs": [
        {
          "output_type": "execute_result",
          "data": {
            "text/plain": [
              "-47.43768144214509"
            ]
          },
          "metadata": {
            "tags": []
          },
          "execution_count": 25
        }
      ]
    },
    {
      "cell_type": "markdown",
      "metadata": {
        "id": "2YexnjV5w78O",
        "colab_type": "text"
      },
      "source": [
        "la funcion anterior para todos los archivos"
      ]
    },
    {
      "cell_type": "code",
      "metadata": {
        "id": "BvW4HajKxqCK",
        "colab_type": "code",
        "colab": {}
      },
      "source": [
        "!cd data/\n",
        "!wc -l"
      ],
      "execution_count": 0,
      "outputs": []
    },
    {
      "cell_type": "code",
      "metadata": {
        "id": "6tKZSJEfwn3L",
        "colab_type": "code",
        "colab": {}
      },
      "source": [
        "nombre = 'data/2001-01-'\n",
        "fechas = []\n",
        "for i in "
      ],
      "execution_count": 0,
      "outputs": []
    }
  ]
}