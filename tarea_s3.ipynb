{
  "nbformat": 4,
  "nbformat_minor": 0,
  "metadata": {
    "colab": {
      "name": "tarea s3.ipynb",
      "version": "0.3.2",
      "provenance": [],
      "include_colab_link": true
    },
    "kernelspec": {
      "name": "python3",
      "display_name": "Python 3"
    }
  },
  "cells": [
    {
      "cell_type": "markdown",
      "metadata": {
        "id": "view-in-github",
        "colab_type": "text"
      },
      "source": [
        "<a href=\"https://colab.research.google.com/github/asosam91/SisDist2/blob/master/tarea_s3.ipynb\" target=\"_parent\"><img src=\"https://colab.research.google.com/assets/colab-badge.svg\" alt=\"Open In Colab\"/></a>"
      ]
    },
    {
      "cell_type": "code",
      "metadata": {
        "id": "Hkx63IVWLXKX",
        "colab_type": "code",
        "colab": {}
      },
      "source": [
        "import os, h5py, time\n",
        "import numpy as np \n",
        "import pandas as pd\n",
        "import dask.array as da\n",
        "from time import sleep\n",
        "from math import sqrt\n",
        "from dask import delayed"
      ],
      "execution_count": 0,
      "outputs": []
    },
    {
      "cell_type": "code",
      "metadata": {
        "id": "W2uTCBU2MUJp",
        "colab_type": "code",
        "colab": {}
      },
      "source": [
        "!wget https://www.gw-osc.org/archive/data/S5/814743552/H-H1_LOSC_4_V1-815411200-4096.hdf5"
      ],
      "execution_count": 0,
      "outputs": []
    },
    {
      "cell_type": "code",
      "metadata": {
        "id": "i4A6UIZOMY7n",
        "colab_type": "code",
        "colab": {}
      },
      "source": [
        "!cp H-H1_LOSC_4_V1-815411200-4096.hdf5 LIGO_data.hdf5"
      ],
      "execution_count": 0,
      "outputs": []
    },
    {
      "cell_type": "code",
      "metadata": {
        "id": "LD_69zoeMkRL",
        "colab_type": "code",
        "colab": {}
      },
      "source": [
        "datos = h5py.File('./LIGO_data.hdf5')\n",
        "with h5py.File('./LIGO_data.hdf5') as dset:\n",
        "  strain = dset['strain']['Strain'][:]"
      ],
      "execution_count": 0,
      "outputs": []
    },
    {
      "cell_type": "code",
      "metadata": {
        "id": "DtPVm35hQIYx",
        "colab_type": "code",
        "colab": {}
      },
      "source": [
        "def promediarLista(lista):\n",
        "    sum=0.0\n",
        "    for i in range(0,len(lista)):\n",
        "        sum=sum+lista[i]\n",
        " \n",
        "    return sum/len(lista)"
      ],
      "execution_count": 0,
      "outputs": []
    },
    {
      "cell_type": "markdown",
      "metadata": {
        "id": "G2S2GazgM3_y",
        "colab_type": "text"
      },
      "source": [
        "## chunks = 2"
      ]
    },
    {
      "cell_type": "code",
      "metadata": {
        "id": "cldgjrIxMvxQ",
        "colab_type": "code",
        "colab": {}
      },
      "source": [
        "strain_dask8 = da.from_array(strain, chunks = strain.shape[0]//2)"
      ],
      "execution_count": 0,
      "outputs": []
    },
    {
      "cell_type": "code",
      "metadata": {
        "id": "Vs8gb6v1OcJh",
        "colab_type": "code",
        "colab": {}
      },
      "source": [
        "strain_np = np.array(strain)"
      ],
      "execution_count": 0,
      "outputs": []
    },
    {
      "cell_type": "code",
      "metadata": {
        "id": "1G2lCcAPM9yZ",
        "colab_type": "code",
        "colab": {}
      },
      "source": [
        "ti = time.time()\n",
        "promedio8 = strain_dask8.mean().compute()\n",
        "tf = time.time()\n",
        "print(\"Tiempo transcurrido en dask: {} ms\".format((tf-ti)*1000))"
      ],
      "execution_count": 0,
      "outputs": []
    },
    {
      "cell_type": "code",
      "metadata": {
        "id": "t-PFObD7SZWt",
        "colab_type": "code",
        "colab": {
          "base_uri": "https://localhost:8080/",
          "height": 34
        },
        "outputId": "bf0b6d26-1cc3-43d5-fc7b-6c6f7967d468"
      },
      "source": [
        "ti = time.time()\n",
        "promedio = promediarLista(strain_np)\n",
        "tf = time.time()\n",
        "print(\"Tiempo transcurrido en numpy: {} ms\".format((tf-ti)*1000))"
      ],
      "execution_count": 27,
      "outputs": [
        {
          "output_type": "stream",
          "text": [
            "Tiempo transcurrido en numpy: 4298.43807220459 ms\n"
          ],
          "name": "stdout"
        }
      ]
    },
    {
      "cell_type": "markdown",
      "metadata": {
        "id": "HU1ByDwrNCxW",
        "colab_type": "text"
      },
      "source": [
        "## chunks = 4"
      ]
    },
    {
      "cell_type": "code",
      "metadata": {
        "id": "iOsTiRjKNE9k",
        "colab_type": "code",
        "colab": {}
      },
      "source": [
        "strain_dask8 = da.from_array(strain, chunks = strain.shape[0]//4)"
      ],
      "execution_count": 0,
      "outputs": []
    },
    {
      "cell_type": "code",
      "metadata": {
        "id": "mbCWU_RcNGaC",
        "colab_type": "code",
        "colab": {}
      },
      "source": [
        "ti = time.time()\n",
        "promedio8 = strain_dask8.mean().compute()\n",
        "tf = time.time()\n",
        "print(\"Tiempo transcurrido en dask: {} ms\".format((tf-ti)*1000))"
      ],
      "execution_count": 0,
      "outputs": []
    },
    {
      "cell_type": "markdown",
      "metadata": {
        "id": "HlzUcAb-NKiP",
        "colab_type": "text"
      },
      "source": [
        "## chunks = 8"
      ]
    },
    {
      "cell_type": "code",
      "metadata": {
        "id": "jTnaXcQHNNIx",
        "colab_type": "code",
        "colab": {}
      },
      "source": [
        "strain_dask8 = da.from_array(strain, chunks = strain.shape[0]//8)"
      ],
      "execution_count": 0,
      "outputs": []
    },
    {
      "cell_type": "code",
      "metadata": {
        "id": "yY0PnnDBNRnn",
        "colab_type": "code",
        "colab": {}
      },
      "source": [
        "ti = time.time()\n",
        "promedio8 = strain_dask8.mean().compute()\n",
        "tf = time.time()\n",
        "print(\"Tiempo transcurrido en dask: {} ms\".format((tf-ti)*1000))"
      ],
      "execution_count": 0,
      "outputs": []
    },
    {
      "cell_type": "markdown",
      "metadata": {
        "id": "4M96PbWiNSQy",
        "colab_type": "text"
      },
      "source": [
        "## chunks = 16"
      ]
    },
    {
      "cell_type": "code",
      "metadata": {
        "id": "cRWYn__NNWFA",
        "colab_type": "code",
        "colab": {}
      },
      "source": [
        "strain_dask8 = da.from_array(strain, chunks = strain.shape[0]//16)"
      ],
      "execution_count": 0,
      "outputs": []
    },
    {
      "cell_type": "code",
      "metadata": {
        "id": "pVC79rydNXv0",
        "colab_type": "code",
        "colab": {}
      },
      "source": [
        "ti = time.time()\n",
        "promedio8 = strain_dask8.mean().compute()\n",
        "tf = time.time()\n",
        "print(\"Tiempo transcurrido en dask: {} ms\".format((tf-ti)*1000))"
      ],
      "execution_count": 0,
      "outputs": []
    },
    {
      "cell_type": "markdown",
      "metadata": {
        "id": "R47K_12rNYf9",
        "colab_type": "text"
      },
      "source": [
        "## chunks = 32"
      ]
    },
    {
      "cell_type": "code",
      "metadata": {
        "id": "IGaXUjP-Nbb1",
        "colab_type": "code",
        "colab": {}
      },
      "source": [
        "strain_dask8 = da.from_array(strain, chunks = strain.shape[0]//32)"
      ],
      "execution_count": 0,
      "outputs": []
    },
    {
      "cell_type": "code",
      "metadata": {
        "id": "vnzmJyCRNf2E",
        "colab_type": "code",
        "colab": {}
      },
      "source": [
        "ti = time.time()\n",
        "promedio8 = strain_dask8.mean().compute()\n",
        "tf = time.time()\n",
        "print(\"Tiempo transcurrido en dask: {} ms\".format((tf-ti)*1000))"
      ],
      "execution_count": 0,
      "outputs": []
    }
  ]
}